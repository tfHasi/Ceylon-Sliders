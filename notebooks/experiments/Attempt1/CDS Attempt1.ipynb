{
 "cells": [
  {
   "cell_type": "code",
   "execution_count": 2,
   "id": "e0c00dcf-96ac-407d-a80c-22868af87ba7",
   "metadata": {},
   "outputs": [
    {
     "name": "stderr",
     "output_type": "stream",
     "text": [
      "2025-08-25 21:20:49,599 INFO [2024-09-26T00:00:00] Watch our [Forum](https://forum.ecmwf.int/) for Announcements, news and other discussed topics.\n",
      "2025-08-25 21:20:50,298 INFO Request ID is 970ab6d9-573a-44dc-8f81-d06d8b33e5fb\n",
      "2025-08-25 21:20:50,482 INFO status has been updated to accepted\n",
      "2025-08-25 21:20:59,519 INFO status has been updated to running\n",
      "2025-08-25 21:22:07,364 INFO status has been updated to successful\n"
     ]
    },
    {
     "data": {
      "application/vnd.jupyter.widget-view+json": {
       "model_id": "2b5c597f80b64be79862b5457004b226",
       "version_major": 2,
       "version_minor": 0
      },
      "text/plain": [
       "e55ab6c553709878a79dc8e0c838ac68.zip:   0%|          | 0.00/316k [00:00<?, ?B/s]"
      ]
     },
     "metadata": {},
     "output_type": "display_data"
    },
    {
     "data": {
      "text/plain": [
       "'arugambay_data_2022_07.nc'"
      ]
     },
     "execution_count": 2,
     "metadata": {},
     "output_type": "execute_result"
    }
   ],
   "source": [
    "import cdsapi\n",
    "\n",
    "dataset = \"reanalysis-era5-single-levels\"\n",
    "request = {\n",
    "    \"product_type\": [\"reanalysis\"],\n",
    "    \"variable\": [\n",
    "        \"10m_u_component_of_wind\",\n",
    "        \"10m_v_component_of_wind\",\n",
    "        \"mean_sea_level_pressure\",\n",
    "        \"sea_surface_temperature\",\n",
    "        \"significant_height_of_combined_wind_waves_and_swell\",\n",
    "        \"total_precipitation\",\n",
    "        \"total_cloud_cover\",\n",
    "    ],\n",
    "    \"year\": [\"2022\"],\n",
    "    \"month\": [\"07\"],  # July\n",
    "    \"day\": [f\"{i:02d}\" for i in range(1, 32)],  # 01–31\n",
    "    \"time\": [\"00:00\", \"06:00\", \"12:00\", \"18:00\"],\n",
    "    \"data_format\": \"netcdf\",        # <-- replaces 'format'\n",
    "    \"download_format\": \"unarchived\", # <-- keeps raw .nc (not zipped)\n",
    "    \"area\": [10, 80, 5, 85],        # N, W, S, E\n",
    "    \"grid\": [0.5, 0.5],             # optional, keep if you want coarser/finer res\n",
    "}\n",
    "\n",
    "client = cdsapi.Client()\n",
    "client.retrieve(dataset, request).download(\"arugambay_data_2022_07.nc\")"
   ]
  },
  {
   "cell_type": "code",
   "execution_count": null,
   "id": "393356aa-3174-472a-a05d-1dbd371696f8",
   "metadata": {},
   "outputs": [],
   "source": []
  }
 ],
 "metadata": {
  "kernelspec": {
   "display_name": "Python 3 (ipykernel)",
   "language": "python",
   "name": "python3"
  },
  "language_info": {
   "codemirror_mode": {
    "name": "ipython",
    "version": 3
   },
   "file_extension": ".py",
   "mimetype": "text/x-python",
   "name": "python",
   "nbconvert_exporter": "python",
   "pygments_lexer": "ipython3",
   "version": "3.9.13"
  }
 },
 "nbformat": 4,
 "nbformat_minor": 5
}
