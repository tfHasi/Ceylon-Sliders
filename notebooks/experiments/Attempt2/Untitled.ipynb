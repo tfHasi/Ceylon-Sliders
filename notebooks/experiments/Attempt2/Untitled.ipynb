{
 "cells": [
  {
   "cell_type": "markdown",
   "id": "317b7fa7-6061-4c1f-8065-7138301b42e6",
   "metadata": {},
   "source": [
    "### Arugam Bay Surf Analysis Pipeline - Full Year 2022\n",
    "##### Extracts and analyzes wave height, wind speed/direction for the famous Sri Lankan surf spot\n",
    "##### Target: 6.81°N, 81.83°E (Arugam Bay Main Point)"
   ]
  },
  {
   "cell_type": "code",
   "execution_count": 1,
   "id": "ae85c88f-2da9-47f4-a2c6-84c298017882",
   "metadata": {},
   "outputs": [],
   "source": [
    "import cdsapi\n",
    "import xarray as xr\n",
    "import numpy as np\n",
    "import pandas as pd\n",
    "import matplotlib.pyplot as plt\n",
    "import zipfile\n",
    "import os\n",
    "from datetime import datetime, timedelta\n",
    "import seaborn as sns"
   ]
  },
  {
   "cell_type": "markdown",
   "id": "0c84f9bc-e1fc-4e21-ba54-09d220bfdb74",
   "metadata": {},
   "source": [
    "#### Config"
   ]
  },
  {
   "cell_type": "code",
   "execution_count": 2,
   "id": "513b0397-8474-43cd-82c8-46a0161d07f3",
   "metadata": {},
   "outputs": [],
   "source": [
    "# Arugam Bay coordinates (famous surf spot)\n",
    "TARGET_LAT = 6.81  # °N \n",
    "TARGET_LON = 81.83  # °E\n",
    "\n",
    "# Data parameters\n",
    "YEAR = 2022\n",
    "AREA = [TARGET_LAT + 0.25, TARGET_LON - 0.25, TARGET_LAT - 0.25, TARGET_LON + 0.25]  # Small grid around Arugam Bay\n",
    "TIMES = ['00:00', '06:00', '12:00', '18:00']  # 6-hourly data\n",
    "MONTHS = [f'{i:02d}' for i in range(1, 13)]"
   ]
  },
  {
   "cell_type": "markdown",
   "id": "fc19e0c7-753a-432a-a61d-396d76ce558c",
   "metadata": {},
   "source": [
    "#### Data Extraction & Preparation"
   ]
  },
  {
   "cell_type": "code",
   "execution_count": 3,
   "id": "764f73f3-324c-4a67-9b3e-075891229a99",
   "metadata": {},
   "outputs": [],
   "source": [
    "def download_era5_data():\n",
    "    \"\"\"Download ERA5 reanalysis data for full year 2022\"\"\"\n",
    "    c = cdsapi.Client()\n",
    "    \n",
    "    # Atmospheric data\n",
    "    print(\"Downloading atmospheric data...\")\n",
    "    c.retrieve('reanalysis-era5-single-levels', {\n",
    "        'product_type': 'reanalysis',\n",
    "        'variable': ['10m_u_component_of_wind', '10m_v_component_of_wind', 'mean_sea_level_pressure'],\n",
    "        'year': str(YEAR),\n",
    "        'month': MONTHS,\n",
    "        'day': [f'{i:02d}' for i in range(1, 32)],\n",
    "        'time': TIMES,\n",
    "        'area': AREA,\n",
    "        'format': 'netcdf',\n",
    "    }, 'era5_atmos_2022.nc')\n",
    "    \n",
    "    # Wave data\n",
    "    print(\"Downloading wave data...\")\n",
    "    c.retrieve('reanalysis-era5-single-levels', {\n",
    "        'product_type': 'reanalysis',\n",
    "        'variable': 'significant_height_of_combined_wind_waves_and_swell',\n",
    "        'year': str(YEAR),\n",
    "        'month': MONTHS,\n",
    "        'day': [f'{i:02d}' for i in range(1, 32)],\n",
    "        'time': TIMES,\n",
    "        'area': AREA,\n",
    "        'format': 'netcdf',\n",
    "    }, 'era5_waves_2022.nc')"
   ]
  },
  {
   "cell_type": "code",
   "execution_count": 4,
   "id": "25035c11-63d3-476a-8ff1-b7e569c71dc6",
   "metadata": {},
   "outputs": [],
   "source": [
    "def extract_and_clean_data():\n",
    "    \"\"\"Load, merge and extract time series at target point\"\"\"\n",
    "    print(\"Loading and processing data...\")\n",
    "    \n",
    "    # Load datasets\n",
    "    ds_atmos = xr.open_dataset('era5_atmos_2022.nc')\n",
    "    ds_waves = xr.open_dataset('era5_waves_2022.nc')\n",
    "    \n",
    "    # Merge datasets\n",
    "    ds = xr.merge([ds_atmos, ds_waves])\n",
    "    \n",
    "    # Extract nearest point to Arugam Bay\n",
    "    point = ds.sel(latitude=TARGET_LAT, longitude=TARGET_LON, method='nearest')\n",
    "    \n",
    "    # Calculate derived variables\n",
    "    wind_speed = np.sqrt(point.u10**2 + point.v10**2)\n",
    "    wind_direction = (180/np.pi) * np.arctan2(point.u10, point.v10) % 360  # Meteorological convention\n",
    "    \n",
    "    # Create DataFrame\n",
    "    df = pd.DataFrame({\n",
    "        'datetime': pd.to_datetime(point.time.values),\n",
    "        'swh': point.swh.values,\n",
    "        'wind_speed': wind_speed.values,\n",
    "        'wind_direction': wind_direction.values,\n",
    "        'u_wind': point.u10.values,\n",
    "        'v_wind': point.v10.values,\n",
    "        'mslp': point.msl.values / 100  # Convert to hPa\n",
    "    })\n",
    "    \n",
    "    df.set_index('datetime', inplace=True)\n",
    "    return df"
   ]
  },
  {
   "cell_type": "markdown",
   "id": "889c5482-0b70-46a6-ae1d-9c2f2221ea65",
   "metadata": {},
   "source": [
    "#### Analysis Function"
   ]
  },
  {
   "cell_type": "code",
   "execution_count": 5,
   "id": "c2fe31d9-96b1-4814-8238-5ba1c3d61d7d",
   "metadata": {},
   "outputs": [],
   "source": [
    "def analyze_surf_seasons(df):\n",
    "    \"\"\"Analyze seasonal patterns in wave height\"\"\"\n",
    "    df['month'] = df.index.month\n",
    "    df['season'] = df['month'].map({\n",
    "        12: 'NE_Monsoon', 1: 'NE_Monsoon', 2: 'NE_Monsoon',\n",
    "        3: 'Inter_Monsoon', 4: 'Inter_Monsoon', 5: 'Inter_Monsoon',\n",
    "        6: 'SW_Monsoon', 7: 'SW_Monsoon', 8: 'SW_Monsoon',\n",
    "        9: 'SW_Monsoon', 10: 'SW_Monsoon', 11: 'SW_Monsoon'\n",
    "    })\n",
    "    \n",
    "    monthly_stats = df.groupby('month').agg({\n",
    "        'swh': ['mean', 'std', 'max'],\n",
    "        'wind_speed': ['mean', 'std'],\n",
    "        'wind_direction': lambda x: np.degrees(np.arctan2(np.sin(np.radians(x)).mean(), \n",
    "                                                          np.cos(np.radians(x)).mean())) % 360\n",
    "    })\n",
    "    \n",
    "    return monthly_stats"
   ]
  },
  {
   "cell_type": "code",
   "execution_count": 6,
   "id": "2973bce1-8f2d-4186-ab03-db73c77d25e6",
   "metadata": {},
   "outputs": [],
   "source": [
    "def create_visualizations(df):\n",
    "    \"\"\"Create comprehensive surf analysis plots\"\"\"\n",
    "    fig = plt.figure(figsize=(16, 12))\n",
    "    \n",
    "    # 1. Full year wave height time series\n",
    "    ax1 = plt.subplot(3, 2, 1)\n",
    "    df['swh'].plot(ax=ax1, color='steelblue', alpha=0.7, linewidth=0.8)\n",
    "    df['swh'].rolling(window=30*4, center=True).mean().plot(ax=ax1, color='red', linewidth=2, label='30-day average')\n",
    "    ax1.set_ylabel('Significant Wave Height (m)')\n",
    "    ax1.set_title('Arugam Bay - Wave Height 2022')\n",
    "    ax1.legend()\n",
    "    ax1.grid(True, alpha=0.3)\n",
    "    \n",
    "    # Highlight surf season (May-October)\n",
    "    surf_season = df[(df.index.month >= 5) & (df.index.month <= 10)]\n",
    "    ax1.axvspan(surf_season.index.min(), surf_season.index.max(), alpha=0.2, color='green', label='Surf Season')\n",
    "    \n",
    "    # 2. Monthly wave height box plot\n",
    "    ax2 = plt.subplot(3, 2, 2)\n",
    "    df['month'] = df.index.month\n",
    "    monthly_data = [df[df['month'] == m]['swh'].values for m in range(1, 13)]\n",
    "    bp = ax2.boxplot(monthly_data, labels=['J','F','M','A','M','J','J','A','S','O','N','D'])\n",
    "    ax2.set_ylabel('Wave Height (m)')\n",
    "    ax2.set_title('Monthly Wave Height Distribution')\n",
    "    ax2.grid(True, alpha=0.3)\n",
    "    \n",
    "    # Color surf season boxes\n",
    "    for i, patch in enumerate(bp['boxes']):\n",
    "        if i+1 >= 5 and i+1 <= 10:  # May-October\n",
    "            patch.set_facecolor('lightgreen')\n",
    "    \n",
    "    # 3. Wind speed time series\n",
    "    ax3 = plt.subplot(3, 2, 3)\n",
    "    df['wind_speed'].plot(ax=ax3, color='orange', alpha=0.7, linewidth=0.8)\n",
    "    df['wind_speed'].rolling(window=30*4, center=True).mean().plot(ax=ax3, color='darkred', linewidth=2)\n",
    "    ax3.set_ylabel('Wind Speed (m/s)')\n",
    "    ax3.set_title('Wind Speed 2022')\n",
    "    ax3.grid(True, alpha=0.3)\n",
    "    \n",
    "    # 4. Wind direction scatter plot (by month)\n",
    "    ax4 = plt.subplot(3, 2, 4)\n",
    "    colors = plt.cm.viridis(df.index.month / 12)\n",
    "    scatter = ax4.scatter(df.index.dayofyear, df['wind_direction'], c=df.index.month, \n",
    "                         cmap='viridis', alpha=0.6, s=8)\n",
    "    ax4.set_ylabel('Wind Direction (°)')\n",
    "    ax4.set_xlabel('Day of Year')\n",
    "    ax4.set_title('Wind Direction Pattern 2022')\n",
    "    ax4.set_ylim(0, 360)\n",
    "    ax4.set_yticks([0, 90, 180, 270, 360])\n",
    "    ax4.set_yticklabels(['N', 'E', 'S', 'W', 'N'])\n",
    "    cbar = plt.colorbar(scatter, ax=ax4)\n",
    "    cbar.set_label('Month')\n",
    "    \n",
    "    # 5. Wave height vs Wind speed\n",
    "    ax5 = plt.subplot(3, 2, 5)\n",
    "    ax5.scatter(df['wind_speed'], df['swh'], c=df.index.month, cmap='viridis', alpha=0.5, s=8)\n",
    "    ax5.set_xlabel('Wind Speed (m/s)')\n",
    "    ax5.set_ylabel('Wave Height (m)')\n",
    "    ax5.set_title('Wave Height vs Wind Speed')\n",
    "    ax5.grid(True, alpha=0.3)\n",
    "    \n",
    "    # 6. Seasonal wind rose (surf season focus)\n",
    "    ax6 = plt.subplot(3, 2, 6, projection='polar')\n",
    "    surf_season = df[(df.index.month >= 5) & (df.index.month <= 10)]\n",
    "    \n",
    "    # Convert to radians and create wind rose\n",
    "    wind_dir_rad = np.radians(surf_season['wind_direction'])\n",
    "    wind_speeds = surf_season['wind_speed']\n",
    "    \n",
    "    # Create bins for wind direction\n",
    "    dir_bins = np.arange(0, 2*np.pi + np.pi/8, np.pi/8)\n",
    "    speed_bins = [0, 3, 6, 9, 12, 20]\n",
    "    \n",
    "    for i in range(len(speed_bins)-1):\n",
    "        mask = (wind_speeds >= speed_bins[i]) & (wind_speeds < speed_bins[i+1])\n",
    "        if mask.sum() > 0:\n",
    "            hist, _ = np.histogram(wind_dir_rad[mask], bins=dir_bins)\n",
    "            width = 2*np.pi/len(hist)\n",
    "            theta = dir_bins[:-1] + width/2\n",
    "            ax6.bar(theta, hist, width=width, alpha=0.7, \n",
    "                   label=f'{speed_bins[i]}-{speed_bins[i+1]} m/s')\n",
    "    \n",
    "    ax6.set_theta_zero_location('N')\n",
    "    ax6.set_theta_direction(-1)\n",
    "    ax6.set_title('Surf Season Wind Rose\\\\n(May-October)', pad=20)\n",
    "    ax6.legend(loc='upper left', bbox_to_anchor=(-0.1, 1.1))\n",
    "    \n",
    "    plt.tight_layout()\n",
    "    plt.show()\n",
    "    \n",
    "    return fig"
   ]
  },
  {
   "cell_type": "code",
   "execution_count": 7,
   "id": "751d648d-8d0e-4868-bd51-66b139169fc0",
   "metadata": {},
   "outputs": [],
   "source": [
    "def print_surf_analysis(df, target_lat, target_lon):\n",
    "    \"\"\"Print key surf statistics for Arugam Bay\"\"\"\n",
    "    print(\"ARUGAM BAY SURF ANALYSIS - 2022\")\n",
    "    print(\"=\"*60)\n",
    "    \n",
    "    # Overall statistics\n",
    "    print(f\"\\nTarget Location: {target_lat:.2f}°N, {target_lon:.2f}°E\")\n",
    "    print(f\"Data Points: {len(df):,} (6-hourly for full year)\")\n",
    "    \n",
    "    # Wave statistics\n",
    "    print(\"\\nWAVE STATISTICS:\")\n",
    "    print(f\"  Annual Mean SWH: {df['swh'].mean():.2f} m\")\n",
    "    print(f\"  Annual Max SWH: {df['swh'].max():.2f} m\")\n",
    "    print(f\"  Days with SWH > 2m: {(df['swh'] > 2.0).sum()/4:.0f} days\")\n",
    "    \n",
    "    # Seasonal analysis\n",
    "    surf_season = df[(df.index.month >= 5) & (df.index.month <= 10)]\n",
    "    off_season = df[(df.index.month < 5) | (df.index.month > 10)]\n",
    "    \n",
    "    print(\"\\nSEASONAL COMPARISON:\")\n",
    "    print(f\"  Surf Season (May-Oct): {surf_season['swh'].mean():.2f}m avg, {surf_season['swh'].max():.2f}m max\")\n",
    "    print(f\"  Off Season (Nov-Apr): {off_season['swh'].mean():.2f}m avg, {off_season['swh'].max():.2f}m max\")\n",
    "    \n",
    "    # Best months\n",
    "    monthly_avg = df.groupby(df.index.month)['swh'].mean()\n",
    "    best_month = monthly_avg.idxmax()\n",
    "    month_names = ['', 'Jan', 'Feb', 'Mar', 'Apr', 'May', 'Jun', \n",
    "                   'Jul', 'Aug', 'Sep', 'Oct', 'Nov', 'Dec']\n",
    "    \n",
    "    print(\"\\nBEST SURF MONTHS:\")\n",
    "    print(f\"  Peak Month: {month_names[best_month]} ({monthly_avg[best_month]:.2f}m avg)\")\n",
    "    print(\"  Top 3 Months: \", end=\"\")\n",
    "    for i, month_idx in enumerate(monthly_avg.nlargest(3).index):\n",
    "        print(f\"{month_names[month_idx]}({monthly_avg[month_idx]:.2f}m)\", end=\"\")\n",
    "        if i < 2:\n",
    "            print(\", \", end=\"\")\n",
    "    print()  # final newline\n",
    "    \n",
    "    # Wind analysis\n",
    "    print(\"\\nWIND PATTERNS:\")\n",
    "    print(f\"  Annual Mean Wind: {df['wind_speed'].mean():.1f} m/s\")\n",
    "    print(f\"  Surf Season Mean Wind: {surf_season['wind_speed'].mean():.1f} m/s\")\n",
    "    \n",
    "    # Dominant wind directions by season\n",
    "    surf_wind_dir = np.degrees(np.arctan2(surf_season['v_wind'].mean(), surf_season['u_wind'].mean())) % 360\n",
    "    off_wind_dir = np.degrees(np.arctan2(off_season['v_wind'].mean(), off_season['u_wind'].mean())) % 360\n",
    "    \n",
    "    print(f\"  Surf Season Dominant Wind: {surf_wind_dir:.0f}° (SW Monsoon)\")\n",
    "    print(f\"  Off Season Dominant Wind: {off_wind_dir:.0f}° (NE Monsoon)\")"
   ]
  },
  {
   "cell_type": "markdown",
   "id": "48616c35-f3ee-45ae-abdc-b638827a1db7",
   "metadata": {},
   "source": [
    "#### Main Execution"
   ]
  },
  {
   "cell_type": "code",
   "execution_count": 8,
   "id": "f853eb87-9ed6-47b7-846c-1226f395813d",
   "metadata": {},
   "outputs": [
    {
     "name": "stdout",
     "output_type": "stream",
     "text": [
      "Arugam Bay Surf Analysis Pipeline - Starting...\n",
      "Target: 6.81°N, 81.83°E\n",
      "\n",
      "1. Downloading ERA5 data...\n"
     ]
    },
    {
     "name": "stderr",
     "output_type": "stream",
     "text": [
      "2025-08-25 23:26:31,012 INFO [2024-09-26T00:00:00] Watch our [Forum](https://forum.ecmwf.int/) for Announcements, news and other discussed topics.\n"
     ]
    },
    {
     "name": "stdout",
     "output_type": "stream",
     "text": [
      "Downloading atmospheric data...\n"
     ]
    },
    {
     "name": "stderr",
     "output_type": "stream",
     "text": [
      "2025-08-25 23:26:31,922 INFO Request ID is 9b2c1dde-7524-4c85-b446-3fc3193a2945\n",
      "2025-08-25 23:26:32,158 INFO status has been updated to accepted\n",
      "2025-08-25 23:26:37,434 INFO status has been updated to running\n",
      "2025-08-25 23:32:53,812 INFO status has been updated to successful\n"
     ]
    },
    {
     "data": {
      "application/vnd.jupyter.widget-view+json": {
       "model_id": "6d58b4a08a14465dafd81f3b0fb8b2c1",
       "version_major": 2,
       "version_minor": 0
      },
      "text/plain": [
       "1193a70e16e815edbefb6b680a71235c.nc:   0%|          | 0.00/245k [00:00<?, ?B/s]"
      ]
     },
     "metadata": {},
     "output_type": "display_data"
    },
    {
     "name": "stdout",
     "output_type": "stream",
     "text": [
      "Downloading wave data...\n"
     ]
    },
    {
     "name": "stderr",
     "output_type": "stream",
     "text": [
      "2025-08-25 23:32:56,569 INFO Request ID is cb4f4b95-6fa2-48f5-9389-2c6e79f6d2d7\n",
      "2025-08-25 23:32:56,747 INFO status has been updated to accepted\n",
      "2025-08-25 23:33:11,038 INFO status has been updated to running\n",
      "2025-08-25 23:33:18,798 INFO status has been updated to accepted\n",
      "2025-08-25 23:33:30,369 INFO status has been updated to running\n",
      "2025-08-25 23:34:52,314 INFO status has been updated to successful\n"
     ]
    },
    {
     "data": {
      "application/vnd.jupyter.widget-view+json": {
       "model_id": "e5157b264c3e43e988c8efa3dd4b56d9",
       "version_major": 2,
       "version_minor": 0
      },
      "text/plain": [
       "ffece230fd0b6248f17d1df7f4345f7.nc:   0%|          | 0.00/134k [00:00<?, ?B/s]"
      ]
     },
     "metadata": {},
     "output_type": "display_data"
    },
    {
     "name": "stdout",
     "output_type": "stream",
     "text": [
      "\n",
      "2. Processing data...\n",
      "Loading and processing data...\n"
     ]
    },
    {
     "ename": "AttributeError",
     "evalue": "'Dataset' object has no attribute 'time'",
     "output_type": "error",
     "traceback": [
      "\u001b[1;31m---------------------------------------------------------------------------\u001b[0m",
      "\u001b[1;31mAttributeError\u001b[0m                            Traceback (most recent call last)",
      "Cell \u001b[1;32mIn[8], line 40\u001b[0m\n\u001b[0;32m     35\u001b[0m     \u001b[38;5;28;01mreturn\u001b[39;00m df, fig\n\u001b[0;32m     38\u001b[0m \u001b[38;5;28;01mif\u001b[39;00m \u001b[38;5;18m__name__\u001b[39m \u001b[38;5;241m==\u001b[39m \u001b[38;5;124m\"\u001b[39m\u001b[38;5;124m__main__\u001b[39m\u001b[38;5;124m\"\u001b[39m:\n\u001b[0;32m     39\u001b[0m     \u001b[38;5;66;03m# Run the complete analysis\u001b[39;00m\n\u001b[1;32m---> 40\u001b[0m     surf_data, analysis_plot \u001b[38;5;241m=\u001b[39m \u001b[43mmain\u001b[49m\u001b[43m(\u001b[49m\u001b[43m)\u001b[49m\n\u001b[0;32m     42\u001b[0m     \u001b[38;5;66;03m# Additional quick analysis\u001b[39;00m\n\u001b[0;32m     43\u001b[0m     \u001b[38;5;28mprint\u001b[39m(\u001b[38;5;124m\"\u001b[39m\u001b[38;5;130;01m\\n\u001b[39;00m\u001b[38;5;124mQuick Monthly Averages:\u001b[39m\u001b[38;5;124m\"\u001b[39m)\n",
      "Cell \u001b[1;32mIn[8], line 14\u001b[0m, in \u001b[0;36mmain\u001b[1;34m()\u001b[0m\n\u001b[0;32m     12\u001b[0m \u001b[38;5;28mprint\u001b[39m(\u001b[38;5;124m\"\u001b[39m\u001b[38;5;130;01m\\n\u001b[39;00m\u001b[38;5;124m2. Processing data...\u001b[39m\u001b[38;5;124m\"\u001b[39m)\n\u001b[0;32m     13\u001b[0m \u001b[38;5;28;01mtry\u001b[39;00m:\n\u001b[1;32m---> 14\u001b[0m     df \u001b[38;5;241m=\u001b[39m \u001b[43mextract_and_clean_data\u001b[49m\u001b[43m(\u001b[49m\u001b[43m)\u001b[49m\n\u001b[0;32m     15\u001b[0m \u001b[38;5;28;01mexcept\u001b[39;00m \u001b[38;5;167;01mFileNotFoundError\u001b[39;00m:\n\u001b[0;32m     16\u001b[0m     \u001b[38;5;28mprint\u001b[39m(\u001b[38;5;124m\"\u001b[39m\u001b[38;5;124mData files not found. Please run download_era5_data() first.\u001b[39m\u001b[38;5;124m\"\u001b[39m)\n",
      "Cell \u001b[1;32mIn[4], line 21\u001b[0m, in \u001b[0;36mextract_and_clean_data\u001b[1;34m()\u001b[0m\n\u001b[0;32m     17\u001b[0m wind_direction \u001b[38;5;241m=\u001b[39m (\u001b[38;5;241m180\u001b[39m\u001b[38;5;241m/\u001b[39mnp\u001b[38;5;241m.\u001b[39mpi) \u001b[38;5;241m*\u001b[39m np\u001b[38;5;241m.\u001b[39marctan2(point\u001b[38;5;241m.\u001b[39mu10, point\u001b[38;5;241m.\u001b[39mv10) \u001b[38;5;241m%\u001b[39m \u001b[38;5;241m360\u001b[39m  \u001b[38;5;66;03m# Meteorological convention\u001b[39;00m\n\u001b[0;32m     19\u001b[0m \u001b[38;5;66;03m# Create DataFrame\u001b[39;00m\n\u001b[0;32m     20\u001b[0m df \u001b[38;5;241m=\u001b[39m pd\u001b[38;5;241m.\u001b[39mDataFrame({\n\u001b[1;32m---> 21\u001b[0m     \u001b[38;5;124m'\u001b[39m\u001b[38;5;124mdatetime\u001b[39m\u001b[38;5;124m'\u001b[39m: pd\u001b[38;5;241m.\u001b[39mto_datetime(\u001b[43mpoint\u001b[49m\u001b[38;5;241;43m.\u001b[39;49m\u001b[43mtime\u001b[49m\u001b[38;5;241m.\u001b[39mvalues),\n\u001b[0;32m     22\u001b[0m     \u001b[38;5;124m'\u001b[39m\u001b[38;5;124mswh\u001b[39m\u001b[38;5;124m'\u001b[39m: point\u001b[38;5;241m.\u001b[39mswh\u001b[38;5;241m.\u001b[39mvalues,\n\u001b[0;32m     23\u001b[0m     \u001b[38;5;124m'\u001b[39m\u001b[38;5;124mwind_speed\u001b[39m\u001b[38;5;124m'\u001b[39m: wind_speed\u001b[38;5;241m.\u001b[39mvalues,\n\u001b[0;32m     24\u001b[0m     \u001b[38;5;124m'\u001b[39m\u001b[38;5;124mwind_direction\u001b[39m\u001b[38;5;124m'\u001b[39m: wind_direction\u001b[38;5;241m.\u001b[39mvalues,\n\u001b[0;32m     25\u001b[0m     \u001b[38;5;124m'\u001b[39m\u001b[38;5;124mu_wind\u001b[39m\u001b[38;5;124m'\u001b[39m: point\u001b[38;5;241m.\u001b[39mu10\u001b[38;5;241m.\u001b[39mvalues,\n\u001b[0;32m     26\u001b[0m     \u001b[38;5;124m'\u001b[39m\u001b[38;5;124mv_wind\u001b[39m\u001b[38;5;124m'\u001b[39m: point\u001b[38;5;241m.\u001b[39mv10\u001b[38;5;241m.\u001b[39mvalues,\n\u001b[0;32m     27\u001b[0m     \u001b[38;5;124m'\u001b[39m\u001b[38;5;124mmslp\u001b[39m\u001b[38;5;124m'\u001b[39m: point\u001b[38;5;241m.\u001b[39mmsl\u001b[38;5;241m.\u001b[39mvalues \u001b[38;5;241m/\u001b[39m \u001b[38;5;241m100\u001b[39m  \u001b[38;5;66;03m# Convert to hPa\u001b[39;00m\n\u001b[0;32m     28\u001b[0m })\n\u001b[0;32m     30\u001b[0m df\u001b[38;5;241m.\u001b[39mset_index(\u001b[38;5;124m'\u001b[39m\u001b[38;5;124mdatetime\u001b[39m\u001b[38;5;124m'\u001b[39m, inplace\u001b[38;5;241m=\u001b[39m\u001b[38;5;28;01mTrue\u001b[39;00m)\n\u001b[0;32m     31\u001b[0m \u001b[38;5;28;01mreturn\u001b[39;00m df\n",
      "File \u001b[1;32mC:\\Hasi\\WorkShit\\Ceylon-Surfers\\venv\\lib\\site-packages\\xarray\\core\\common.py:286\u001b[0m, in \u001b[0;36mAttrAccessMixin.__getattr__\u001b[1;34m(self, name)\u001b[0m\n\u001b[0;32m    284\u001b[0m         \u001b[38;5;28;01mwith\u001b[39;00m suppress(\u001b[38;5;167;01mKeyError\u001b[39;00m):\n\u001b[0;32m    285\u001b[0m             \u001b[38;5;28;01mreturn\u001b[39;00m source[name]\n\u001b[1;32m--> 286\u001b[0m \u001b[38;5;28;01mraise\u001b[39;00m \u001b[38;5;167;01mAttributeError\u001b[39;00m(\n\u001b[0;32m    287\u001b[0m     \u001b[38;5;124mf\u001b[39m\u001b[38;5;124m\"\u001b[39m\u001b[38;5;132;01m{\u001b[39;00m\u001b[38;5;28mtype\u001b[39m(\u001b[38;5;28mself\u001b[39m)\u001b[38;5;241m.\u001b[39m\u001b[38;5;18m__name__\u001b[39m\u001b[38;5;132;01m!r}\u001b[39;00m\u001b[38;5;124m object has no attribute \u001b[39m\u001b[38;5;132;01m{\u001b[39;00mname\u001b[38;5;132;01m!r}\u001b[39;00m\u001b[38;5;124m\"\u001b[39m\n\u001b[0;32m    288\u001b[0m )\n",
      "\u001b[1;31mAttributeError\u001b[0m: 'Dataset' object has no attribute 'time'"
     ]
    }
   ],
   "source": [
    "def main():\n",
    "    \"\"\"Run complete Arugam Bay surf analysis pipeline\"\"\"\n",
    "    \n",
    "    print(\"Arugam Bay Surf Analysis Pipeline - Starting...\")\n",
    "    print(f\"Target: {TARGET_LAT:.2f}°N, {TARGET_LON:.2f}°E\")\n",
    "    \n",
    "    # Step 1: Download data (uncomment to download)\n",
    "    print(\"\\n1. Downloading ERA5 data...\")\n",
    "    download_era5_data()\n",
    "    \n",
    "    # Step 2: Process data\n",
    "    print(\"\\n2. Processing data...\")\n",
    "    try:\n",
    "        df = extract_and_clean_data()\n",
    "    except FileNotFoundError:\n",
    "        print(\"Data files not found. Please run download_era5_data() first.\")\n",
    "        return\n",
    "    \n",
    "    # Step 3: Analyze\n",
    "    print(\"\\n3. Running analysis...\")\n",
    "    monthly_stats = analyze_surf_seasons(df)\n",
    "    \n",
    "    # Step 4: Visualize\n",
    "    print(\"\\n4. Creating visualizations...\")\n",
    "    fig = create_visualizations(df)\n",
    "    \n",
    "    # Step 5: Print analysis\n",
    "    print_surf_analysis(df)\n",
    "    \n",
    "    # Save processed data\n",
    "    output_file = f\"arugam_bay_surf_data_{YEAR}.csv\"\n",
    "    df.to_csv(output_file)\n",
    "    print(f\"\\nProcessed data saved to: {output_file}\")\n",
    "    \n",
    "    return df, fig\n",
    "\n",
    "\n",
    "if __name__ == \"__main__\":\n",
    "    # Run the complete analysis\n",
    "    surf_data, analysis_plot = main()\n",
    "    \n",
    "    # Additional quick analysis\n",
    "    print(\"\\nQuick Monthly Averages:\")\n",
    "    monthly = surf_data.groupby(surf_data.index.month)[['swh', 'wind_speed']].mean()\n",
    "    monthly.index = ['Jan','Feb','Mar','Apr','May','Jun','Jul','Aug','Sep','Oct','Nov','Dec']\n",
    "    print(monthly.round(2))"
   ]
  }
 ],
 "metadata": {
  "kernelspec": {
   "display_name": "Python 3 (ipykernel)",
   "language": "python",
   "name": "python3"
  },
  "language_info": {
   "codemirror_mode": {
    "name": "ipython",
    "version": 3
   },
   "file_extension": ".py",
   "mimetype": "text/x-python",
   "name": "python",
   "nbconvert_exporter": "python",
   "pygments_lexer": "ipython3",
   "version": "3.9.13"
  }
 },
 "nbformat": 4,
 "nbformat_minor": 5
}
