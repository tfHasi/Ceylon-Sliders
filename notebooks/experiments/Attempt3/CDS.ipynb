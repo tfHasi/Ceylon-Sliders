{
 "cells": [
  {
   "cell_type": "code",
   "execution_count": 1,
   "id": "fbdac5f5-0ca3-440f-b257-03536605ecca",
   "metadata": {},
   "outputs": [],
   "source": [
    "import cdsapi\n",
    "\n",
    "# Initialize the CDS API client\n",
    "client = cdsapi.Client()\n",
    "\n",
    "# Config\n",
    "dataset = \"reanalysis-era5-single-levels\" # single-level = surface level\n",
    "variables = [\n",
    "    \"10m_u_component_of_wind\",\n",
    "    \"10m_v_component_of_wind\",\n",
    "    \"mean_sea_level_pressure\",\n",
    "    \"sea_surface_temperature\",\n",
    "    \"significant_height_of_combined_wind_waves_and_swell\",\n",
    "    \"total_precipitation\",\n",
    "    \"total_cloud_cover\",\n",
    "]\n",
    "years = [\"2020\"]\n",
    "months = [f\"{i:02d}\" for i in range(1, 13)]"
   ]
  },
  {
   "cell_type": "code",
   "execution_count": 2,
   "id": "2489b331-a301-4b19-943a-729228b24eb7",
   "metadata": {},
   "outputs": [
    {
     "name": "stderr",
     "output_type": "stream",
     "text": [
      "2025-10-17 22:23:44,617 INFO Request ID is f910416c-ceea-4b2c-8085-aab6ac5f608f\n",
      "2025-10-17 22:23:44,898 INFO status has been updated to accepted\n",
      "2025-10-17 22:23:59,710 INFO status has been updated to running\n",
      "2025-10-17 22:25:02,431 INFO status has been updated to successful\n"
     ]
    },
    {
     "data": {
      "application/vnd.jupyter.widget-view+json": {
       "model_id": "d498998275a2417faa02cc0baf909d5f",
       "version_major": 2,
       "version_minor": 0
      },
      "text/plain": [
       "3a36728e7694e15589fb8422133c9789.zip:   0%|          | 0.00/317k [00:00<?, ?B/s]"
      ]
     },
     "metadata": {},
     "output_type": "display_data"
    },
    {
     "name": "stdout",
     "output_type": "stream",
     "text": [
      "Successfully downloaded: surf_data_2020_01.nc\n"
     ]
    },
    {
     "name": "stderr",
     "output_type": "stream",
     "text": [
      "2025-10-17 22:25:10,703 INFO Request ID is 273f77ea-37d5-40b0-b59f-c7266d5598a6\n",
      "2025-10-17 22:25:11,134 INFO status has been updated to accepted\n",
      "2025-10-17 22:25:20,833 INFO status has been updated to running\n",
      "2025-10-17 22:26:29,684 INFO status has been updated to successful\n"
     ]
    },
    {
     "data": {
      "application/vnd.jupyter.widget-view+json": {
       "model_id": "2af56796a2c14d52bcb7d5b878e0050e",
       "version_major": 2,
       "version_minor": 0
      },
      "text/plain": [
       "1fd90aacebcd52f6bd55e10eab50ebd5.zip:   0%|          | 0.00/305k [00:00<?, ?B/s]"
      ]
     },
     "metadata": {},
     "output_type": "display_data"
    },
    {
     "name": "stdout",
     "output_type": "stream",
     "text": [
      "Successfully downloaded: surf_data_2020_02.nc\n"
     ]
    },
    {
     "name": "stderr",
     "output_type": "stream",
     "text": [
      "2025-10-17 22:26:34,310 INFO Request ID is d18d6c70-7412-483a-92b2-8351c34656d8\n",
      "2025-10-17 22:26:35,053 INFO status has been updated to accepted\n",
      "2025-10-17 22:26:49,606 INFO status has been updated to running\n",
      "2025-10-17 22:27:52,511 INFO status has been updated to successful\n"
     ]
    },
    {
     "data": {
      "application/vnd.jupyter.widget-view+json": {
       "model_id": "38fa84292ba94f69a991ad4502d9121e",
       "version_major": 2,
       "version_minor": 0
      },
      "text/plain": [
       "7759efcac7684118206d070eed8419cc.zip:   0%|          | 0.00/315k [00:00<?, ?B/s]"
      ]
     },
     "metadata": {},
     "output_type": "display_data"
    },
    {
     "name": "stdout",
     "output_type": "stream",
     "text": [
      "Successfully downloaded: surf_data_2020_03.nc\n"
     ]
    },
    {
     "name": "stderr",
     "output_type": "stream",
     "text": [
      "2025-10-17 22:27:56,380 INFO Request ID is 786b296f-3154-4c32-a351-06677dda834f\n",
      "2025-10-17 22:27:56,641 INFO status has been updated to accepted\n",
      "2025-10-17 22:28:05,930 INFO status has been updated to running\n",
      "2025-10-17 22:29:14,067 INFO status has been updated to successful\n"
     ]
    },
    {
     "data": {
      "application/vnd.jupyter.widget-view+json": {
       "model_id": "b117aefc3c9a43c0a7204c2724ef7d73",
       "version_major": 2,
       "version_minor": 0
      },
      "text/plain": [
       "62ac84a3a8b1e44a6d13d410665b0993.zip:   0%|          | 0.00/316k [00:00<?, ?B/s]"
      ]
     },
     "metadata": {},
     "output_type": "display_data"
    },
    {
     "name": "stdout",
     "output_type": "stream",
     "text": [
      "Successfully downloaded: surf_data_2020_04.nc\n"
     ]
    },
    {
     "name": "stderr",
     "output_type": "stream",
     "text": [
      "2025-10-17 22:29:18,378 INFO Request ID is 23aba140-3558-482e-86a4-b74901ad35df\n",
      "2025-10-17 22:29:18,777 INFO status has been updated to accepted\n",
      "2025-10-17 22:29:33,636 INFO status has been updated to running\n",
      "2025-10-17 22:30:36,649 INFO status has been updated to successful\n"
     ]
    },
    {
     "data": {
      "application/vnd.jupyter.widget-view+json": {
       "model_id": "2c8fdcd2d0634e7ea5ef78ebdec50b18",
       "version_major": 2,
       "version_minor": 0
      },
      "text/plain": [
       "7c8d429183dda4f156439044f0d9b53b.zip:   0%|          | 0.00/319k [00:00<?, ?B/s]"
      ]
     },
     "metadata": {},
     "output_type": "display_data"
    },
    {
     "name": "stdout",
     "output_type": "stream",
     "text": [
      "Successfully downloaded: surf_data_2020_05.nc\n"
     ]
    },
    {
     "name": "stderr",
     "output_type": "stream",
     "text": [
      "2025-10-17 22:30:41,195 INFO Request ID is 586495ce-1d79-4871-a5f3-d7d7bbcec564\n",
      "2025-10-17 22:30:41,450 INFO status has been updated to accepted\n",
      "2025-10-17 22:30:56,829 INFO status has been updated to running\n",
      "2025-10-17 22:31:59,689 INFO status has been updated to successful\n"
     ]
    },
    {
     "data": {
      "application/vnd.jupyter.widget-view+json": {
       "model_id": "0468370703da4ff699a762b3a315ab23",
       "version_major": 2,
       "version_minor": 0
      },
      "text/plain": [
       "fca128f95167f8ce9af15f5941c94a4c.zip:   0%|          | 0.00/313k [00:00<?, ?B/s]"
      ]
     },
     "metadata": {},
     "output_type": "display_data"
    },
    {
     "name": "stdout",
     "output_type": "stream",
     "text": [
      "Successfully downloaded: surf_data_2020_06.nc\n"
     ]
    },
    {
     "name": "stderr",
     "output_type": "stream",
     "text": [
      "2025-10-17 22:32:04,769 INFO Request ID is 3d6fab2e-e1f2-4ddc-b4a4-f2b05fd4c0d3\n",
      "2025-10-17 22:32:05,030 INFO status has been updated to accepted\n",
      "2025-10-17 22:32:16,066 INFO status has been updated to running\n",
      "2025-10-17 22:33:24,764 INFO status has been updated to successful\n"
     ]
    },
    {
     "data": {
      "application/vnd.jupyter.widget-view+json": {
       "model_id": "2242c7c95cad4a7fa3e3d5bf58a2eeb5",
       "version_major": 2,
       "version_minor": 0
      },
      "text/plain": [
       "6b95d5432f4ffdc16a366430033d4e71.zip:   0%|          | 0.00/319k [00:00<?, ?B/s]"
      ]
     },
     "metadata": {},
     "output_type": "display_data"
    },
    {
     "name": "stdout",
     "output_type": "stream",
     "text": [
      "Successfully downloaded: surf_data_2020_07.nc\n"
     ]
    },
    {
     "name": "stderr",
     "output_type": "stream",
     "text": [
      "2025-10-17 22:33:28,326 INFO Request ID is d235e3f9-d61f-4259-8d77-aa8468dd2a28\n",
      "2025-10-17 22:33:28,674 INFO status has been updated to accepted\n",
      "2025-10-17 22:33:38,380 INFO status has been updated to running\n",
      "2025-10-17 22:34:47,196 INFO status has been updated to successful\n"
     ]
    },
    {
     "data": {
      "application/vnd.jupyter.widget-view+json": {
       "model_id": "1b5b3b76678641b1978f8455e9c77e24",
       "version_major": 2,
       "version_minor": 0
      },
      "text/plain": [
       "95f49067cd0f148558e4cfe58ce2049c.zip:   0%|          | 0.00/317k [00:00<?, ?B/s]"
      ]
     },
     "metadata": {},
     "output_type": "display_data"
    },
    {
     "name": "stdout",
     "output_type": "stream",
     "text": [
      "Successfully downloaded: surf_data_2020_08.nc\n"
     ]
    },
    {
     "name": "stderr",
     "output_type": "stream",
     "text": [
      "2025-10-17 22:34:51,659 INFO Request ID is 477fc73d-aa9d-4154-926b-7b4474fffebf\n",
      "2025-10-17 22:34:52,033 INFO status has been updated to accepted\n",
      "2025-10-17 22:35:01,921 INFO status has been updated to running\n",
      "2025-10-17 22:36:48,887 INFO status has been updated to successful\n"
     ]
    },
    {
     "data": {
      "application/vnd.jupyter.widget-view+json": {
       "model_id": "1dae4b2b2cfe4a5897d064eb426bd1e1",
       "version_major": 2,
       "version_minor": 0
      },
      "text/plain": [
       "3360215876a8be3976d5cbaccabffa49.zip:   0%|          | 0.00/314k [00:00<?, ?B/s]"
      ]
     },
     "metadata": {},
     "output_type": "display_data"
    },
    {
     "name": "stdout",
     "output_type": "stream",
     "text": [
      "Successfully downloaded: surf_data_2020_09.nc\n"
     ]
    },
    {
     "name": "stderr",
     "output_type": "stream",
     "text": [
      "2025-10-17 22:36:53,399 INFO Request ID is 57c90f91-a760-4f28-9bac-fa778bb05822\n",
      "2025-10-17 22:36:53,627 INFO status has been updated to accepted\n",
      "2025-10-17 22:37:08,984 INFO status has been updated to running\n",
      "2025-10-17 22:38:11,787 INFO status has been updated to successful\n"
     ]
    },
    {
     "data": {
      "application/vnd.jupyter.widget-view+json": {
       "model_id": "1361a7e5e2734dde9af65c73c007bc3d",
       "version_major": 2,
       "version_minor": 0
      },
      "text/plain": [
       "cc3db244792ab48520c2b2bc66f272c8.zip:   0%|          | 0.00/320k [00:00<?, ?B/s]"
      ]
     },
     "metadata": {},
     "output_type": "display_data"
    },
    {
     "name": "stdout",
     "output_type": "stream",
     "text": [
      "Successfully downloaded: surf_data_2020_10.nc\n"
     ]
    },
    {
     "name": "stderr",
     "output_type": "stream",
     "text": [
      "2025-10-17 22:38:18,364 INFO Request ID is cfde5414-b889-421e-af64-ac5b38670eea\n",
      "2025-10-17 22:38:18,778 INFO status has been updated to accepted\n",
      "2025-10-17 22:38:28,163 INFO status has been updated to running\n",
      "2025-10-17 22:39:36,263 INFO status has been updated to successful\n"
     ]
    },
    {
     "data": {
      "application/vnd.jupyter.widget-view+json": {
       "model_id": "1d6c65e06b25498aaf349559c58170b3",
       "version_major": 2,
       "version_minor": 0
      },
      "text/plain": [
       "3b7ce3de848ccd6ff30c3dc5f8858f2b.zip:   0%|          | 0.00/316k [00:00<?, ?B/s]"
      ]
     },
     "metadata": {},
     "output_type": "display_data"
    },
    {
     "name": "stdout",
     "output_type": "stream",
     "text": [
      "Successfully downloaded: surf_data_2020_11.nc\n"
     ]
    },
    {
     "name": "stderr",
     "output_type": "stream",
     "text": [
      "2025-10-17 22:39:40,650 INFO Request ID is bab415ff-1881-49c2-b9a2-ee823e2670b3\n",
      "2025-10-17 22:39:40,990 INFO status has been updated to accepted\n",
      "2025-10-17 22:39:57,588 INFO status has been updated to running\n",
      "2025-10-17 22:41:00,393 INFO status has been updated to successful\n"
     ]
    },
    {
     "data": {
      "application/vnd.jupyter.widget-view+json": {
       "model_id": "40510a2008b7445d95e927f21ed0a7b0",
       "version_major": 2,
       "version_minor": 0
      },
      "text/plain": [
       "5cda896351e8f82dffe4b09cfb0af6ef.zip:   0%|          | 0.00/322k [00:00<?, ?B/s]"
      ]
     },
     "metadata": {},
     "output_type": "display_data"
    },
    {
     "name": "stdout",
     "output_type": "stream",
     "text": [
      "Successfully downloaded: surf_data_2020_12.nc\n"
     ]
    }
   ],
   "source": [
    "for year in years:\n",
    "    for month in months:\n",
    "        try:\n",
    "            # API Request\n",
    "            request = {\n",
    "                \"product_type\": \"reanalysis\",\n",
    "                \"variable\": variables,\n",
    "                \"year\": year,\n",
    "                \"month\": month,\n",
    "                \"day\": [f\"{i:02d}\" for i in range(1, 32)],\n",
    "                \"time\": [\"00:00\", \"06:00\", \"12:00\", \"18:00\"],\n",
    "                \"area\": [10, 78, 5, 83],\n",
    "                \"grid\": [0.5, 0.5],\n",
    "                \"format\": \"netcdf\",\n",
    "            }\n",
    "            \n",
    "            output_filename = f\"surf_data_{year}_{month}.nc\"\n",
    "\n",
    "            # Retrieve the data and download the file\n",
    "            client.retrieve(dataset, request, output_filename)\n",
    "\n",
    "            print(f\"Successfully downloaded: {output_filename}\")\n",
    "\n",
    "        except Exception as e:\n",
    "            print(f\"An error occurred for {year}-{month}: {e}\")"
   ]
  },
  {
   "cell_type": "code",
   "execution_count": null,
   "id": "373b3958-d805-4efc-b256-780b0a521c07",
   "metadata": {},
   "outputs": [],
   "source": []
  }
 ],
 "metadata": {
  "kernelspec": {
   "display_name": "Python 3 (ipykernel)",
   "language": "python",
   "name": "python3"
  },
  "language_info": {
   "codemirror_mode": {
    "name": "ipython",
    "version": 3
   },
   "file_extension": ".py",
   "mimetype": "text/x-python",
   "name": "python",
   "nbconvert_exporter": "python",
   "pygments_lexer": "ipython3",
   "version": "3.9.13"
  }
 },
 "nbformat": 4,
 "nbformat_minor": 5
}
