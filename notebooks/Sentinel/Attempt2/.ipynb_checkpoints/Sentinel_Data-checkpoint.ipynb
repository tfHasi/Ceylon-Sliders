{
 "cells": [
  {
   "cell_type": "code",
   "execution_count": 1,
   "id": "b8676161-0620-41dd-8b3e-72bee6dc9cf2",
   "metadata": {},
   "outputs": [],
   "source": [
    "import ee\n",
    "import pandas as pd"
   ]
  },
  {
   "cell_type": "code",
   "execution_count": 2,
   "id": "316e0991-a851-425d-8017-0021b8707874",
   "metadata": {},
   "outputs": [],
   "source": [
    "# Initialize the Earth Engine API\n",
    "ee.Initialize()\n",
    "\n",
    "# Function to create a bounding box around a coordinate with a buffer\n",
    "def create_geometry_from_point(lat, lon, buffer=0.1):\n",
    "    \"\"\"Create a rectangular bounding box around a point with the given buffer.\"\"\"\n",
    "    min_lon = lon - buffer\n",
    "    min_lat = lat - buffer\n",
    "    max_lon = lon + buffer\n",
    "    max_lat = lat + buffer\n",
    "    return ee.Geometry.Rectangle([min_lon, min_lat, max_lon, max_lat])"
   ]
  },
  {
   "cell_type": "code",
   "execution_count": 3,
   "id": "bb8075ff-1053-4a94-9696-0b9a28dc399a",
   "metadata": {},
   "outputs": [],
   "source": [
    "# Function to fetch monthly mean VV and VH data\n",
    "def get_monthly_mean_vv_vh(geometry, start_date, end_date):\n",
    "    \"\"\"\n",
    "    Fetch the monthly mean of VV and VH polarization bands for the specified geometry and date range.\n",
    "    \"\"\"\n",
    "    # Load Sentinel-1 GRD image collection\n",
    "    s1 = ee.ImageCollection(\"COPERNICUS/S1_GRD\") \\\n",
    "        .filterDate(start_date, end_date) \\\n",
    "        .filterBounds(geometry) \\\n",
    "        .filter(ee.Filter.eq('instrumentMode', 'IW')) \\\n",
    "        .filter(ee.Filter.listContains('transmitterReceiverPolarisation', 'VV')) \\\n",
    "        .filter(ee.Filter.listContains('transmitterReceiverPolarisation', 'VH'))\n",
    "\n",
    "    # Reduce the image collection to monthly mean VV and VH\n",
    "    vv_mean = s1.select('VV').mean().reduceRegion(\n",
    "        reducer=ee.Reducer.mean(),\n",
    "        geometry=geometry,\n",
    "        scale=10\n",
    "    ).get('VV')\n",
    "\n",
    "    vh_mean = s1.select('VH').mean().reduceRegion(\n",
    "        reducer=ee.Reducer.mean(),\n",
    "        geometry=geometry,\n",
    "        scale=10\n",
    "    ).get('VH')\n",
    "\n",
    "    return {\n",
    "        'VV': vv_mean.getInfo() if vv_mean else None,\n",
    "        'VH': vh_mean.getInfo() if vh_mean else None\n",
    "    }\n"
   ]
  },
  {
   "cell_type": "code",
   "execution_count": 4,
   "id": "48ed9892-bb1d-4bd0-8d80-1f6ad8835df0",
   "metadata": {},
   "outputs": [],
   "source": [
    "# Load the surf spots data\n",
    "surf_spots_df = pd.read_csv(\"Surf Spots.csv\")\n",
    "\n",
    "# Define date range (monthly intervals)\n",
    "date_range = pd.date_range(start=\"2025-01-01\", end=\"2025-01-31\", freq='MS')\n",
    "\n",
    "# Store results in a list\n",
    "results = []"
   ]
  },
  {
   "cell_type": "code",
   "execution_count": 5,
   "id": "6c4b4219-84af-4424-9341-94f6ba5e855a",
   "metadata": {},
   "outputs": [
    {
     "name": "stdout",
     "output_type": "stream",
     "text": [
      "Processing complete. Results saved to 'Surf_Spots_VV_VH_2025.csv'\n"
     ]
    }
   ],
   "source": [
    "# Loop through each surf spot\n",
    "for _, row in surf_spots_df.iterrows():\n",
    "    surf_spot_name = row['Name']\n",
    "    lat = row['Latitude']\n",
    "    lon = row['Longitude']\n",
    "    \n",
    "    # Create geometry (bounding box)\n",
    "    geometry = create_geometry_from_point(lat, lon, buffer=0.1)  # Adjust buffer as needed\n",
    "\n",
    "    for start_date in date_range:\n",
    "        # Format the date\n",
    "        end_date = (start_date + pd.offsets.MonthEnd()).strftime('%Y-%m-%d')\n",
    "        start_date = start_date.strftime('%Y-%m-%d')\n",
    "        \n",
    "        # Fetch VV and VH data\n",
    "        try:\n",
    "            vv_vh_data = get_monthly_mean_vv_vh(geometry, start_date, end_date)\n",
    "            results.append({\n",
    "                'Date': start_date,\n",
    "                'Surf Spot': surf_spot_name,\n",
    "                'VV': vv_vh_data.get('VV', None),\n",
    "                'VH': vv_vh_data.get('VH', None)\n",
    "            })\n",
    "        except Exception as e:\n",
    "            print(f\"Error processing {surf_spot_name} for {start_date} to {end_date}: {e}\")\n",
    "\n",
    "# Create a DataFrame from the results\n",
    "output_df = pd.DataFrame(results)\n",
    "\n",
    "# Save results to a new CSV\n",
    "output_df.to_csv(\"SurfSpots_Sentinel(Monthly Mean 2025).csv\", index=False)\n",
    "\n",
    "print(\"Processing complete. Results saved to 'Surf_Spots_VV_VH_2025.csv'\")"
   ]
  },
  {
   "cell_type": "code",
   "execution_count": null,
   "id": "c64f4936-be9d-49c8-90f8-1927f28bcaaf",
   "metadata": {},
   "outputs": [],
   "source": []
  }
 ],
 "metadata": {
  "kernelspec": {
   "display_name": "Python 3 (ipykernel)",
   "language": "python",
   "name": "python3"
  },
  "language_info": {
   "codemirror_mode": {
    "name": "ipython",
    "version": 3
   },
   "file_extension": ".py",
   "mimetype": "text/x-python",
   "name": "python",
   "nbconvert_exporter": "python",
   "pygments_lexer": "ipython3",
   "version": "3.11.7"
  }
 },
 "nbformat": 4,
 "nbformat_minor": 5
}
