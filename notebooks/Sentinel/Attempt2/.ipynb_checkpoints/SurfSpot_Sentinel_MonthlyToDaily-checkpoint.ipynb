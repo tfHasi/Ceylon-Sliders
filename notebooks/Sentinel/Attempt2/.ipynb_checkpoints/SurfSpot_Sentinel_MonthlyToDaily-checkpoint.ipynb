{
 "cells": [
  {
   "cell_type": "code",
   "execution_count": 1,
   "id": "a82e332b-3926-4b03-b9be-bb4c721bc2c1",
   "metadata": {},
   "outputs": [],
   "source": [
    "import pandas as pd\n",
    "import numpy as np"
   ]
  },
  {
   "cell_type": "code",
   "execution_count": 2,
   "id": "4a619247-9a8c-475c-9c69-67964e1bee99",
   "metadata": {},
   "outputs": [],
   "source": [
    "# Load the surf spot data with monthly mean values (VV, VH)\n",
    "monthly_data = pd.read_csv(\"SurfSpots_Sentinel(Monthly Mean 2024).csv\")\n",
    "\n",
    "# Ensure the 'Date' column is in datetime format\n",
    "monthly_data['Date'] = pd.to_datetime(monthly_data['Date'])\n",
    "\n",
    "# Create a new column for daily date range (full year)\n",
    "daily_date_range = pd.date_range(start=\"2024-01-01\", end=\"2024-12-31\", freq='D')\n",
    "\n",
    "# Create a new DataFrame to store daily values\n",
    "daily_results = []"
   ]
  },
  {
   "cell_type": "code",
   "execution_count": 3,
   "id": "28651293-3da6-46d6-8dfd-b0df723f6cb7",
   "metadata": {},
   "outputs": [],
   "source": [
    "# Loop through each surf spot\n",
    "for _, surf_spot in monthly_data.groupby('Surf Spot'):\n",
    "    for surf_spot_name, group in surf_spot.groupby('Surf Spot'):\n",
    "        # Sort by date (ensure it's in order)\n",
    "        group = group.sort_values('Date')\n",
    "\n",
    "        # Convert date to ordinal (days since epoch)\n",
    "        group['Date_ordinal'] = group['Date'].apply(lambda x: x.toordinal())\n",
    "        daily_date_range_ordinal = daily_date_range.to_series().apply(lambda x: x.toordinal())\n",
    "\n",
    "        # Interpolation for VV and VH using linear interpolation\n",
    "        vv_interpolated = np.interp(daily_date_range_ordinal, group['Date_ordinal'], group['VV'])\n",
    "        vh_interpolated = np.interp(daily_date_range_ordinal, group['Date_ordinal'], group['VH'])\n",
    "\n",
    "        # Append the daily values for this surf spot\n",
    "        for i, date in enumerate(daily_date_range):\n",
    "            daily_results.append({\n",
    "                'Date': date,\n",
    "                'Surf Spot': surf_spot_name,\n",
    "                'VV': vv_interpolated[i],\n",
    "                'VH': vh_interpolated[i]\n",
    "            })\n",
    "\n",
    "# Convert to DataFrame\n",
    "daily_df = pd.DataFrame(daily_results)"
   ]
  },
  {
   "cell_type": "code",
   "execution_count": 4,
   "id": "5624cac8-a1c7-44ce-a445-67ab6afeb49c",
   "metadata": {},
   "outputs": [
    {
     "name": "stdout",
     "output_type": "stream",
     "text": [
      "Interpolation complete\n"
     ]
    }
   ],
   "source": [
    "\n",
    "# Save the result to a new CSV file\n",
    "daily_df.to_csv(\"Surf_Spots_VV_VH_Daily_2024.csv\", index=False)\n",
    "\n",
    "print(\"Interpolation complete\")"
   ]
  }
 ],
 "metadata": {
  "kernelspec": {
   "display_name": "Python 3 (ipykernel)",
   "language": "python",
   "name": "python3"
  },
  "language_info": {
   "codemirror_mode": {
    "name": "ipython",
    "version": 3
   },
   "file_extension": ".py",
   "mimetype": "text/x-python",
   "name": "python",
   "nbconvert_exporter": "python",
   "pygments_lexer": "ipython3",
   "version": "3.11.7"
  }
 },
 "nbformat": 4,
 "nbformat_minor": 5
}
