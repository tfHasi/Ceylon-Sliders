{
 "cells": [
  {
   "cell_type": "code",
   "execution_count": 1,
   "id": "a82e332b-3926-4b03-b9be-bb4c721bc2c1",
   "metadata": {},
   "outputs": [],
   "source": [
    "import pandas as pd\n",
    "import numpy as np"
   ]
  },
  {
   "cell_type": "code",
   "execution_count": 2,
   "id": "4a619247-9a8c-475c-9c69-67964e1bee99",
   "metadata": {},
   "outputs": [],
   "source": [
    "# Define the input year and next year\n",
    "year = 2024  # Current year for the main data\n",
    "next_year = year + 1  # Next year for the reference data\n",
    "\n",
    "# Load the surf spot data with monthly mean values (VV, VH) for the current year\n",
    "monthly_data = pd.read_csv(f\"SurfSpots_Sentinel(Monthly Mean {year}).csv\")\n",
    "\n",
    "# Load the reference CSV for the next year's values (VV, VH)\n",
    "reference_data = pd.read_csv(f\"SurfSpots_Sentinel(Monthly Mean {year}).csv\")\n",
    "\n",
    "# Ensure the 'Date' columns are in datetime format\n",
    "monthly_data['Date'] = pd.to_datetime(monthly_data['Date'])\n",
    "reference_data['Date'] = pd.to_datetime(reference_data['Date'])\n",
    "\n",
    "# Create a new column for daily date range (full year)\n",
    "daily_date_range = pd.date_range(start=f\"{year}-01-01\", end=f\"{year}-12-31\", freq='D')\n",
    "\n",
    "# Create a new DataFrame to store daily values\n",
    "daily_results = []"
   ]
  },
  {
   "cell_type": "code",
   "execution_count": 3,
   "id": "28651293-3da6-46d6-8dfd-b0df723f6cb7",
   "metadata": {},
   "outputs": [],
   "source": [
    "# Loop through each surf spot\n",
    "for _, surf_spot in monthly_data.groupby('Surf Spot'):\n",
    "    for surf_spot_name, group in surf_spot.groupby('Surf Spot'):\n",
    "        # Sort by date (ensure it's in order)\n",
    "        group = group.sort_values('Date')\n",
    "\n",
    "        # Convert date to ordinal (days since epoch)\n",
    "        group['Date_ordinal'] = group['Date'].apply(lambda x: x.toordinal())\n",
    "        daily_date_range_ordinal = daily_date_range.to_series().apply(lambda x: x.toordinal())\n",
    "\n",
    "        # Interpolation for VV and VH using linear interpolation (except December)\n",
    "        vv_interpolated = np.interp(daily_date_range_ordinal, group['Date_ordinal'], group['VV'])\n",
    "        vh_interpolated = np.interp(daily_date_range_ordinal, group['Date_ordinal'], group['VH'])\n",
    "\n",
    "        # Handle December by using January of next year as reference\n",
    "        december_index = daily_date_range.month == 12\n",
    "\n",
    "        # Get the January values from the next year's reference data\n",
    "        january_next_year_data = reference_data[reference_data['Surf Spot'] == surf_spot_name]\n",
    "        january_next_year_vv = january_next_year_data[january_next_year_data['Date'].dt.month == 1]['VV'].values[0]\n",
    "        january_next_year_vh = january_next_year_data[january_next_year_data['Date'].dt.month == 1]['VH'].values[0]\n",
    "\n",
    "        # Apply the January next year values to December of the current year\n",
    "        vv_interpolated[december_index] = january_next_year_vv\n",
    "        vh_interpolated[december_index] = january_next_year_vh\n",
    "\n",
    "        # Append the daily values for this surf spot\n",
    "        for i, date in enumerate(daily_date_range):\n",
    "            daily_results.append({\n",
    "                'Date': date,\n",
    "                'Surf Spot': surf_spot_name,\n",
    "                'VV': vv_interpolated[i],\n",
    "                'VH': vh_interpolated[i]\n",
    "            })\n",
    "\n",
    "# Convert to DataFrame\n",
    "daily_df = pd.DataFrame(daily_results)"
   ]
  },
  {
   "cell_type": "code",
   "execution_count": 4,
   "id": "5624cac8-a1c7-44ce-a445-67ab6afeb49c",
   "metadata": {},
   "outputs": [
    {
     "name": "stdout",
     "output_type": "stream",
     "text": [
      "Interpolation complete. Daily values with December filled saved to 'Surf_Spots_VV_VH_Daily_2024_with_December_filled.csv'\n"
     ]
    }
   ],
   "source": [
    "# Save the result to a new CSV file\n",
    "daily_df.to_csv(f\"Surf_Spots_VV_VH_Daily_{year}_with_December_filled.csv\", index=False)\n",
    "\n",
    "print(f\"Interpolation complete. Daily values with December filled saved to 'Surf_Spots_VV_VH_Daily_{year}_with_December_filled.csv'\")"
   ]
  }
 ],
 "metadata": {
  "kernelspec": {
   "display_name": "Python 3 (ipykernel)",
   "language": "python",
   "name": "python3"
  },
  "language_info": {
   "codemirror_mode": {
    "name": "ipython",
    "version": 3
   },
   "file_extension": ".py",
   "mimetype": "text/x-python",
   "name": "python",
   "nbconvert_exporter": "python",
   "pygments_lexer": "ipython3",
   "version": "3.11.7"
  }
 },
 "nbformat": 4,
 "nbformat_minor": 5
}
