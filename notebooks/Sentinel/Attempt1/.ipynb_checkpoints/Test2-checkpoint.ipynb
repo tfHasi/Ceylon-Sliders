{
 "cells": [
  {
   "cell_type": "code",
   "execution_count": 1,
   "id": "5bc6d48a-028f-4d9f-a902-b8bd55e5412c",
   "metadata": {},
   "outputs": [],
   "source": [
    "import pandas as pd"
   ]
  },
  {
   "cell_type": "code",
   "execution_count": 2,
   "id": "9ee4ba9d-9314-4b4c-b698-edbde6f7dee2",
   "metadata": {
    "scrolled": true
   },
   "outputs": [
    {
     "name": "stdout",
     "output_type": "stream",
     "text": [
      "            Name  Latitude  Longitude       Direction         Type  \\\n",
      "0     Arugam Bay  6.840739  81.836999           Right  Point-break   \n",
      "1      Dalawella  5.999671  80.263658  Right and left   Reef-coral   \n",
      "2    Devils rock  5.962863  80.379945            Left   Reef-rocky   \n",
      "3  Dewata, Galle  6.032651  80.238465  Right and left  Point-break   \n",
      "4  Elephant rock  6.810079  81.824244           Right  Point-break   \n",
      "\n",
      "            Experience  \n",
      "0          All surfers  \n",
      "1  Experienced surfers  \n",
      "2  Experienced surfers  \n",
      "3          All surfers  \n",
      "4          All surfers  \n"
     ]
    }
   ],
   "source": [
    "# Load surf spot data\n",
    "surf_spots = pd.read_csv(\"Surf Spots.csv\")\n",
    "print(surf_spots.head())"
   ]
  },
  {
   "cell_type": "code",
   "execution_count": 3,
   "id": "b8301c8d-78c7-4390-9ab6-ed353df7e5b8",
   "metadata": {},
   "outputs": [],
   "source": [
    "import ee\n",
    "import geemap\n",
    "\n",
    "# Authenticate and initialize Earth Engine\n",
    "ee.Authenticate()\n",
    "ee.Initialize()"
   ]
  },
  {
   "cell_type": "code",
   "execution_count": 4,
   "id": "252dc725-17b4-4a2d-9ad1-c8b10c0bca41",
   "metadata": {},
   "outputs": [
    {
     "data": {
      "text/html": [
       "\n",
       "            <style>\n",
       "                .geemap-dark {\n",
       "                    --jp-widgets-color: white;\n",
       "                    --jp-widgets-label-color: white;\n",
       "                    --jp-ui-font-color1: white;\n",
       "                    --jp-layout-color2: #454545;\n",
       "                    background-color: #383838;\n",
       "                }\n",
       "\n",
       "                .geemap-dark .jupyter-button {\n",
       "                    --jp-layout-color3: #383838;\n",
       "                }\n",
       "\n",
       "                .geemap-colab {\n",
       "                    background-color: var(--colab-primary-surface-color, white);\n",
       "                }\n",
       "\n",
       "                .geemap-colab .jupyter-button {\n",
       "                    --jp-layout-color3: var(--colab-primary-surface-color, white);\n",
       "                }\n",
       "            </style>\n",
       "            "
      ],
      "text/plain": [
       "<IPython.core.display.HTML object>"
      ]
     },
     "metadata": {},
     "output_type": "display_data"
    }
   ],
   "source": [
    "# Function to create a rectangle buffer around each surf spot\n",
    "def create_rectangle(lon, lat, buffer_size=0.01):\n",
    "    \"\"\"\n",
    "    Create a rectangle around a point (lon, lat) with a given buffer size.\n",
    "    Args:\n",
    "    - lon: Longitude of the center point.\n",
    "    - lat: Latitude of the center point.\n",
    "    - buffer_size: Half the width/height of the rectangle in degrees.\n",
    "\n",
    "    Returns:\n",
    "    - ee.Geometry.Rectangle\n",
    "    \"\"\"\n",
    "    return ee.Geometry.Rectangle([\n",
    "        lon - buffer_size,  # Min longitude\n",
    "        lat - buffer_size,  # Min latitude\n",
    "        lon + buffer_size,  # Max longitude\n",
    "        lat + buffer_size   # Max latitude\n",
    "    ])"
   ]
  },
  {
   "cell_type": "code",
   "execution_count": 5,
   "id": "45dc5a33-4fc8-4614-b396-788d2f445af8",
   "metadata": {},
   "outputs": [
    {
     "data": {
      "text/html": [
       "\n",
       "            <style>\n",
       "                .geemap-dark {\n",
       "                    --jp-widgets-color: white;\n",
       "                    --jp-widgets-label-color: white;\n",
       "                    --jp-ui-font-color1: white;\n",
       "                    --jp-layout-color2: #454545;\n",
       "                    background-color: #383838;\n",
       "                }\n",
       "\n",
       "                .geemap-dark .jupyter-button {\n",
       "                    --jp-layout-color3: #383838;\n",
       "                }\n",
       "\n",
       "                .geemap-colab {\n",
       "                    background-color: var(--colab-primary-surface-color, white);\n",
       "                }\n",
       "\n",
       "                .geemap-colab .jupyter-button {\n",
       "                    --jp-layout-color3: var(--colab-primary-surface-color, white);\n",
       "                }\n",
       "            </style>\n",
       "            "
      ],
      "text/plain": [
       "<IPython.core.display.HTML object>"
      ]
     },
     "metadata": {},
     "output_type": "display_data"
    }
   ],
   "source": [
    "# Convert surf spots to GEE FeatureCollection with rectangle buffers\n",
    "features = []\n",
    "buffer_size = 0.01  # Adjust buffer size (~1 km)\n",
    "for _, row in surf_spots.iterrows():\n",
    "    rectangle = create_rectangle(row['Longitude'], row['Latitude'], buffer_size)\n",
    "    feature = ee.Feature(rectangle, {'surf_spot_name': row['Name']})\n",
    "    features.append(feature)\n",
    "\n",
    "surf_spots_fc = ee.FeatureCollection(features)"
   ]
  },
  {
   "cell_type": "code",
   "execution_count": 6,
   "id": "cf9c8c77-df22-433e-a134-9adad74cc5bf",
   "metadata": {},
   "outputs": [
    {
     "data": {
      "text/html": [
       "\n",
       "            <style>\n",
       "                .geemap-dark {\n",
       "                    --jp-widgets-color: white;\n",
       "                    --jp-widgets-label-color: white;\n",
       "                    --jp-ui-font-color1: white;\n",
       "                    --jp-layout-color2: #454545;\n",
       "                    background-color: #383838;\n",
       "                }\n",
       "\n",
       "                .geemap-dark .jupyter-button {\n",
       "                    --jp-layout-color3: #383838;\n",
       "                }\n",
       "\n",
       "                .geemap-colab {\n",
       "                    background-color: var(--colab-primary-surface-color, white);\n",
       "                }\n",
       "\n",
       "                .geemap-colab .jupyter-button {\n",
       "                    --jp-layout-color3: var(--colab-primary-surface-color, white);\n",
       "                }\n",
       "            </style>\n",
       "            "
      ],
      "text/plain": [
       "<IPython.core.display.HTML object>"
      ]
     },
     "metadata": {},
     "output_type": "display_data"
    }
   ],
   "source": [
    "# Load Sentinel-1 data\n",
    "sentinel1 = ee.ImageCollection(\"COPERNICUS/S1_GRD\") \\\n",
    "    .filterBounds(surf_spots_fc) \\\n",
    "    .filterDate(\"2023-01-01\", \"2023-12-31\") \\\n",
    "    .filter(ee.Filter.eq(\"instrumentMode\", \"IW\")) \\\n",
    "    .select([\"VV\", \"VH\"])"
   ]
  },
  {
   "cell_type": "code",
   "execution_count": 7,
   "id": "aa8910ef-341f-489a-8bd6-c8710771f36d",
   "metadata": {},
   "outputs": [
    {
     "data": {
      "text/html": [
       "\n",
       "            <style>\n",
       "                .geemap-dark {\n",
       "                    --jp-widgets-color: white;\n",
       "                    --jp-widgets-label-color: white;\n",
       "                    --jp-ui-font-color1: white;\n",
       "                    --jp-layout-color2: #454545;\n",
       "                    background-color: #383838;\n",
       "                }\n",
       "\n",
       "                .geemap-dark .jupyter-button {\n",
       "                    --jp-layout-color3: #383838;\n",
       "                }\n",
       "\n",
       "                .geemap-colab {\n",
       "                    background-color: var(--colab-primary-surface-color, white);\n",
       "                }\n",
       "\n",
       "                .geemap-colab .jupyter-button {\n",
       "                    --jp-layout-color3: var(--colab-primary-surface-color, white);\n",
       "                }\n",
       "            </style>\n",
       "            "
      ],
      "text/plain": [
       "<IPython.core.display.HTML object>"
      ]
     },
     "metadata": {},
     "output_type": "display_data"
    }
   ],
   "source": [
    "# Apply water mask\n",
    "water_mask = ee.Image(\"JRC/GSW1_4/GlobalSurfaceWater\").select(\"occurrence\").gt(0)\n",
    "masked_sentinel1 = sentinel1.map(lambda img: img.updateMask(water_mask))"
   ]
  },
  {
   "cell_type": "code",
   "execution_count": 22,
   "id": "c1137500-d75e-4fd4-abc1-2dead4a92586",
   "metadata": {},
   "outputs": [
    {
     "data": {
      "text/html": [
       "\n",
       "            <style>\n",
       "                .geemap-dark {\n",
       "                    --jp-widgets-color: white;\n",
       "                    --jp-widgets-label-color: white;\n",
       "                    --jp-ui-font-color1: white;\n",
       "                    --jp-layout-color2: #454545;\n",
       "                    background-color: #383838;\n",
       "                }\n",
       "\n",
       "                .geemap-dark .jupyter-button {\n",
       "                    --jp-layout-color3: #383838;\n",
       "                }\n",
       "\n",
       "                .geemap-colab {\n",
       "                    background-color: var(--colab-primary-surface-color, white);\n",
       "                }\n",
       "\n",
       "                .geemap-colab .jupyter-button {\n",
       "                    --jp-layout-color3: var(--colab-primary-surface-color, white);\n",
       "                }\n",
       "            </style>\n",
       "            "
      ],
      "text/plain": [
       "<IPython.core.display.HTML object>"
      ]
     },
     "metadata": {},
     "output_type": "display_data"
    }
   ],
   "source": [
    "# Function to extract VV and VH data for each surf spot and date\n",
    "def extract_sentinel_data_per_date(image):\n",
    "    image_date = image.date().format(\"YYYY-MM-dd\")  # Extract date from image\n",
    "    \n",
    "    def map_feature(feature):\n",
    "        geom = feature.geometry()\n",
    "        values = image.reduceRegion(\n",
    "            reducer=ee.Reducer.mean(),\n",
    "            geometry=geom,\n",
    "            scale=50,\n",
    "            maxPixels=1e9\n",
    "        )\n",
    "        return feature.set(values).set({\"date\": image_date})  # Add date to feature properties\n",
    "    \n",
    "    return surf_spots_fc.map(map_feature)"
   ]
  },
  {
   "cell_type": "code",
   "execution_count": 24,
   "id": "43b93754-a038-4811-b9bb-911a3be6a69e",
   "metadata": {},
   "outputs": [
    {
     "data": {
      "text/html": [
       "\n",
       "            <style>\n",
       "                .geemap-dark {\n",
       "                    --jp-widgets-color: white;\n",
       "                    --jp-widgets-label-color: white;\n",
       "                    --jp-ui-font-color1: white;\n",
       "                    --jp-layout-color2: #454545;\n",
       "                    background-color: #383838;\n",
       "                }\n",
       "\n",
       "                .geemap-dark .jupyter-button {\n",
       "                    --jp-layout-color3: #383838;\n",
       "                }\n",
       "\n",
       "                .geemap-colab {\n",
       "                    background-color: var(--colab-primary-surface-color, white);\n",
       "                }\n",
       "\n",
       "                .geemap-colab .jupyter-button {\n",
       "                    --jp-layout-color3: var(--colab-primary-surface-color, white);\n",
       "                }\n",
       "            </style>\n",
       "            "
      ],
      "text/plain": [
       "<IPython.core.display.HTML object>"
      ]
     },
     "metadata": {},
     "output_type": "display_data"
    }
   ],
   "source": [
    "# Iterate over each image in the Sentinel-1 collection\n",
    "surf_spots_with_data = masked_sentinel1.map(extract_sentinel_data_per_date).flatten()"
   ]
  },
  {
   "cell_type": "code",
   "execution_count": 26,
   "id": "bb96a088-8618-4002-b270-b50bf8994fb1",
   "metadata": {},
   "outputs": [
    {
     "data": {
      "text/html": [
       "\n",
       "            <style>\n",
       "                .geemap-dark {\n",
       "                    --jp-widgets-color: white;\n",
       "                    --jp-widgets-label-color: white;\n",
       "                    --jp-ui-font-color1: white;\n",
       "                    --jp-layout-color2: #454545;\n",
       "                    background-color: #383838;\n",
       "                }\n",
       "\n",
       "                .geemap-dark .jupyter-button {\n",
       "                    --jp-layout-color3: #383838;\n",
       "                }\n",
       "\n",
       "                .geemap-colab {\n",
       "                    background-color: var(--colab-primary-surface-color, white);\n",
       "                }\n",
       "\n",
       "                .geemap-colab .jupyter-button {\n",
       "                    --jp-layout-color3: var(--colab-primary-surface-color, white);\n",
       "                }\n",
       "            </style>\n",
       "            "
      ],
      "text/plain": [
       "<IPython.core.display.HTML object>"
      ]
     },
     "metadata": {},
     "output_type": "display_data"
    },
    {
     "name": "stdout",
     "output_type": "stream",
     "text": [
      "Export task started. Check your Google Drive for the output file.\n"
     ]
    }
   ],
   "source": [
    "# Export the data to Google Drive\n",
    "task = ee.batch.Export.table.toDrive(\n",
    "    collection=surf_spots_with_data,\n",
    "    description=\"SurfSpots_Sentinel1_Rectangle_WaterMask1\",\n",
    "    fileFormat=\"CSV\"\n",
    ")\n",
    "task.start()\n",
    "\n",
    "print(\"Export task started. Check your Google Drive for the output file.\")"
   ]
  },
  {
   "cell_type": "code",
   "execution_count": null,
   "id": "8a79727a-6919-473f-8971-11531b5ab70f",
   "metadata": {},
   "outputs": [],
   "source": []
  }
 ],
 "metadata": {
  "kernelspec": {
   "display_name": "Python 3 (ipykernel)",
   "language": "python",
   "name": "python3"
  },
  "language_info": {
   "codemirror_mode": {
    "name": "ipython",
    "version": 3
   },
   "file_extension": ".py",
   "mimetype": "text/x-python",
   "name": "python",
   "nbconvert_exporter": "python",
   "pygments_lexer": "ipython3",
   "version": "3.11.7"
  }
 },
 "nbformat": 4,
 "nbformat_minor": 5
}
