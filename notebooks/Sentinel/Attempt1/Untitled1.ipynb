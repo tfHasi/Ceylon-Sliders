{
 "cells": [
  {
   "cell_type": "code",
   "execution_count": 1,
   "id": "f3efd946-20b3-437d-804e-ad3f1712d538",
   "metadata": {},
   "outputs": [
    {
     "name": "stdout",
     "output_type": "stream",
     "text": [
      "            Name  Latitude  Longitude       Direction         Type  \\\n",
      "0     Arugam Bay  6.840739  81.836999           Right  Point-break   \n",
      "1      Dalawella  5.999671  80.263658  Right and left   Reef-coral   \n",
      "2    Devils rock  5.962863  80.379945            Left   Reef-rocky   \n",
      "3  Dewata, Galle  6.032651  80.238465  Right and left  Point-break   \n",
      "4  Elephant rock  6.810079  81.824244           Right  Point-break   \n",
      "\n",
      "            Experience  \n",
      "0          All surfers  \n",
      "1  Experienced surfers  \n",
      "2  Experienced surfers  \n",
      "3          All surfers  \n",
      "4          All surfers  \n"
     ]
    }
   ],
   "source": [
    "import pandas as pd\n",
    "\n",
    "# Load surf spot data\n",
    "surf_spots = pd.read_csv(\"Surf Spots.csv\")\n",
    "print(surf_spots.head())"
   ]
  },
  {
   "cell_type": "code",
   "execution_count": 3,
   "id": "aab17fa8-cad3-4d57-b0f4-31acf21f8ecc",
   "metadata": {},
   "outputs": [],
   "source": [
    "import ee\n",
    "import geemap\n",
    "\n",
    "# Authenticate and initialize Earth Engine\n",
    "ee.Authenticate()\n",
    "ee.Initialize()"
   ]
  },
  {
   "cell_type": "code",
   "execution_count": 5,
   "id": "50e16319-91ec-4fa5-835e-bc62388d2967",
   "metadata": {},
   "outputs": [
    {
     "data": {
      "text/html": [
       "\n",
       "            <style>\n",
       "                .geemap-dark {\n",
       "                    --jp-widgets-color: white;\n",
       "                    --jp-widgets-label-color: white;\n",
       "                    --jp-ui-font-color1: white;\n",
       "                    --jp-layout-color2: #454545;\n",
       "                    background-color: #383838;\n",
       "                }\n",
       "\n",
       "                .geemap-dark .jupyter-button {\n",
       "                    --jp-layout-color3: #383838;\n",
       "                }\n",
       "\n",
       "                .geemap-colab {\n",
       "                    background-color: var(--colab-primary-surface-color, white);\n",
       "                }\n",
       "\n",
       "                .geemap-colab .jupyter-button {\n",
       "                    --jp-layout-color3: var(--colab-primary-surface-color, white);\n",
       "                }\n",
       "            </style>\n",
       "            "
      ],
      "text/plain": [
       "<IPython.core.display.HTML object>"
      ]
     },
     "metadata": {},
     "output_type": "display_data"
    }
   ],
   "source": [
    "# Convert surf spots to GEE FeatureCollection\n",
    "features = []\n",
    "for _, row in surf_spots.iterrows():\n",
    "    point = ee.Geometry.Point([row['Longitude'], row['Latitude']])\n",
    "    feature = ee.Feature(point, {'surf_spot_name': row['Name']})\n",
    "    features.append(feature)\n",
    "\n",
    "surf_spots_fc = ee.FeatureCollection(features)"
   ]
  },
  {
   "cell_type": "code",
   "execution_count": 7,
   "id": "f5dd79ec-a558-4092-999c-01cafdacd511",
   "metadata": {},
   "outputs": [
    {
     "data": {
      "text/html": [
       "\n",
       "            <style>\n",
       "                .geemap-dark {\n",
       "                    --jp-widgets-color: white;\n",
       "                    --jp-widgets-label-color: white;\n",
       "                    --jp-ui-font-color1: white;\n",
       "                    --jp-layout-color2: #454545;\n",
       "                    background-color: #383838;\n",
       "                }\n",
       "\n",
       "                .geemap-dark .jupyter-button {\n",
       "                    --jp-layout-color3: #383838;\n",
       "                }\n",
       "\n",
       "                .geemap-colab {\n",
       "                    background-color: var(--colab-primary-surface-color, white);\n",
       "                }\n",
       "\n",
       "                .geemap-colab .jupyter-button {\n",
       "                    --jp-layout-color3: var(--colab-primary-surface-color, white);\n",
       "                }\n",
       "            </style>\n",
       "            "
      ],
      "text/plain": [
       "<IPython.core.display.HTML object>"
      ]
     },
     "metadata": {},
     "output_type": "display_data"
    }
   ],
   "source": [
    "# Load Sentinel-1 data\n",
    "sentinel1 = ee.ImageCollection(\"COPERNICUS/S1_GRD\") \\\n",
    "    .filterBounds(surf_spots_fc) \\\n",
    "    .filterDate(\"2023-01-01\", \"2023-12-31\") \\\n",
    "    .filter(ee.Filter.eq(\"instrumentMode\", \"IW\")) \\\n",
    "    .select([\"VV\", \"VH\"])"
   ]
  },
  {
   "cell_type": "code",
   "execution_count": 9,
   "id": "99589182-4b00-49ff-a5a9-99dd57f4a5a7",
   "metadata": {},
   "outputs": [
    {
     "data": {
      "text/html": [
       "\n",
       "            <style>\n",
       "                .geemap-dark {\n",
       "                    --jp-widgets-color: white;\n",
       "                    --jp-widgets-label-color: white;\n",
       "                    --jp-ui-font-color1: white;\n",
       "                    --jp-layout-color2: #454545;\n",
       "                    background-color: #383838;\n",
       "                }\n",
       "\n",
       "                .geemap-dark .jupyter-button {\n",
       "                    --jp-layout-color3: #383838;\n",
       "                }\n",
       "\n",
       "                .geemap-colab {\n",
       "                    background-color: var(--colab-primary-surface-color, white);\n",
       "                }\n",
       "\n",
       "                .geemap-colab .jupyter-button {\n",
       "                    --jp-layout-color3: var(--colab-primary-surface-color, white);\n",
       "                }\n",
       "            </style>\n",
       "            "
      ],
      "text/plain": [
       "<IPython.core.display.HTML object>"
      ]
     },
     "metadata": {},
     "output_type": "display_data"
    }
   ],
   "source": [
    "# Function to extract Sentinel-1 data for each surf spot and date\n",
    "def extract_sentinel_data_per_date(image):\n",
    "    # Extract the date from the image\n",
    "    image_date = image.date().format(\"YYYY-MM-dd\")\n",
    "    \n",
    "    def map_feature(feature):\n",
    "        geom = feature.geometry()\n",
    "        # Extract mean VV and VH values for the given surf spot\n",
    "        values = image.reduceRegion(\n",
    "            reducer=ee.Reducer.mean(),\n",
    "            geometry=geom,\n",
    "            scale=10,  # Sentinel-1 resolution\n",
    "            maxPixels=1e9\n",
    "        )\n",
    "        # Add the date and VV/VH values to the feature\n",
    "        return feature.set(values).set({\"date\": image_date})\n",
    "    \n",
    "    # Map the data extraction to each surf spot in the collection\n",
    "    return surf_spots_fc.map(map_feature)"
   ]
  },
  {
   "cell_type": "code",
   "execution_count": 11,
   "id": "aa3ad2c8-394a-40ac-9db2-d79a6a979113",
   "metadata": {},
   "outputs": [
    {
     "data": {
      "text/html": [
       "\n",
       "            <style>\n",
       "                .geemap-dark {\n",
       "                    --jp-widgets-color: white;\n",
       "                    --jp-widgets-label-color: white;\n",
       "                    --jp-ui-font-color1: white;\n",
       "                    --jp-layout-color2: #454545;\n",
       "                    background-color: #383838;\n",
       "                }\n",
       "\n",
       "                .geemap-dark .jupyter-button {\n",
       "                    --jp-layout-color3: #383838;\n",
       "                }\n",
       "\n",
       "                .geemap-colab {\n",
       "                    background-color: var(--colab-primary-surface-color, white);\n",
       "                }\n",
       "\n",
       "                .geemap-colab .jupyter-button {\n",
       "                    --jp-layout-color3: var(--colab-primary-surface-color, white);\n",
       "                }\n",
       "            </style>\n",
       "            "
      ],
      "text/plain": [
       "<IPython.core.display.HTML object>"
      ]
     },
     "metadata": {},
     "output_type": "display_data"
    }
   ],
   "source": [
    "# Map the function over the Sentinel-1 ImageCollection to extract data for all dates\n",
    "surf_spots_with_data = sentinel1.map(extract_sentinel_data_per_date).flatten()"
   ]
  },
  {
   "cell_type": "code",
   "execution_count": 13,
   "id": "8550915b-5e4e-44cf-a678-a4dba16c1d48",
   "metadata": {},
   "outputs": [
    {
     "data": {
      "text/html": [
       "\n",
       "            <style>\n",
       "                .geemap-dark {\n",
       "                    --jp-widgets-color: white;\n",
       "                    --jp-widgets-label-color: white;\n",
       "                    --jp-ui-font-color1: white;\n",
       "                    --jp-layout-color2: #454545;\n",
       "                    background-color: #383838;\n",
       "                }\n",
       "\n",
       "                .geemap-dark .jupyter-button {\n",
       "                    --jp-layout-color3: #383838;\n",
       "                }\n",
       "\n",
       "                .geemap-colab {\n",
       "                    background-color: var(--colab-primary-surface-color, white);\n",
       "                }\n",
       "\n",
       "                .geemap-colab .jupyter-button {\n",
       "                    --jp-layout-color3: var(--colab-primary-surface-color, white);\n",
       "                }\n",
       "            </style>\n",
       "            "
      ],
      "text/plain": [
       "<IPython.core.display.HTML object>"
      ]
     },
     "metadata": {},
     "output_type": "display_data"
    }
   ],
   "source": [
    "# Clean the feature properties to keep only relevant columns\n",
    "def clean_feature(feature):\n",
    "    return feature.select([\"surf_spot_name\", \"date\", \"VV\", \"VH\"])\n",
    "\n",
    "surf_spots_cleaned = surf_spots_with_data.map(clean_feature)"
   ]
  },
  {
   "cell_type": "code",
   "execution_count": 15,
   "id": "4a0d0417-d533-4467-8f07-d33e409e64e3",
   "metadata": {},
   "outputs": [
    {
     "data": {
      "text/html": [
       "\n",
       "            <style>\n",
       "                .geemap-dark {\n",
       "                    --jp-widgets-color: white;\n",
       "                    --jp-widgets-label-color: white;\n",
       "                    --jp-ui-font-color1: white;\n",
       "                    --jp-layout-color2: #454545;\n",
       "                    background-color: #383838;\n",
       "                }\n",
       "\n",
       "                .geemap-dark .jupyter-button {\n",
       "                    --jp-layout-color3: #383838;\n",
       "                }\n",
       "\n",
       "                .geemap-colab {\n",
       "                    background-color: var(--colab-primary-surface-color, white);\n",
       "                }\n",
       "\n",
       "                .geemap-colab .jupyter-button {\n",
       "                    --jp-layout-color3: var(--colab-primary-surface-color, white);\n",
       "                }\n",
       "            </style>\n",
       "            "
      ],
      "text/plain": [
       "<IPython.core.display.HTML object>"
      ]
     },
     "metadata": {},
     "output_type": "display_data"
    },
    {
     "name": "stdout",
     "output_type": "stream",
     "text": [
      "Export task started. Check your Google Drive for the output file.\n"
     ]
    }
   ],
   "source": [
    "# Export the data to Google Drive\n",
    "task = ee.batch.Export.table.toDrive(\n",
    "    collection=surf_spots_cleaned,\n",
    "    description=\"SurfSpots_Sentinel1_WithDates\",\n",
    "    fileFormat=\"CSV\"\n",
    ")\n",
    "task.start()\n",
    "\n",
    "print(\"Export task started. Check your Google Drive for the output file.\")"
   ]
  },
  {
   "cell_type": "code",
   "execution_count": null,
   "id": "759f1475-6e33-4619-bb80-561a76ab6caf",
   "metadata": {},
   "outputs": [],
   "source": []
  }
 ],
 "metadata": {
  "kernelspec": {
   "display_name": "Python 3 (ipykernel)",
   "language": "python",
   "name": "python3"
  },
  "language_info": {
   "codemirror_mode": {
    "name": "ipython",
    "version": 3
   },
   "file_extension": ".py",
   "mimetype": "text/x-python",
   "name": "python",
   "nbconvert_exporter": "python",
   "pygments_lexer": "ipython3",
   "version": "3.11.7"
  }
 },
 "nbformat": 4,
 "nbformat_minor": 5
}
