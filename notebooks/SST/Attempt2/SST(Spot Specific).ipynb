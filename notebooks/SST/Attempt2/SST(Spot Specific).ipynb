{
 "cells": [
  {
   "cell_type": "code",
   "execution_count": 1,
   "id": "1c47a6c4-87ac-4907-a8ee-85430779baac",
   "metadata": {},
   "outputs": [],
   "source": [
    "import os\n",
    "import pandas as pd"
   ]
  },
  {
   "cell_type": "code",
   "execution_count": 2,
   "id": "78498d8b-3091-446d-9052-d5affc0f8fa9",
   "metadata": {},
   "outputs": [],
   "source": [
    "# Initialize an empty DataFrame to store combined data\n",
    "combined_data = pd.DataFrame()"
   ]
  },
  {
   "cell_type": "code",
   "execution_count": 3,
   "id": "b7fcd535-363f-4104-9389-7ce6f75eaee6",
   "metadata": {},
   "outputs": [],
   "source": [
    "# Loop through each year folder (2020 to 2024)\n",
    "for year in range(2020, 2025):\n",
    "    folder_path = f\"./{year}/\"  # Path to year folder\n",
    "    csv_file = f\"SurfSpot_SST(Daily Mean {year}).csv\"  # Expected filename\n",
    "    \n",
    "    try:\n",
    "        # Read the CSV file\n",
    "        df = pd.read_csv(os.path.join(folder_path, csv_file))\n",
    "        \n",
    "        # Filter for 'Arugam Bay' and keep 'Date' & 'SST (°C)'\n",
    "        arugam_data = df[df['Surf Spot'] == 'Arugam Bay'][['Date', 'SST (°C)']]\n",
    "        \n",
    "        # Rename 'SST (°C)' to 'SST' (optional, for cleaner output)\n",
    "        arugam_data = arugam_data.rename(columns={'SST (°C)': 'SST'})\n",
    "        \n",
    "        # Add to combined DataFrame\n",
    "        combined_data = pd.concat([combined_data, arugam_data])\n",
    "    \n",
    "    except FileNotFoundError:\n",
    "        print(f\"⚠️ File not found: {folder_path}{csv_file} (Skipping)\")"
   ]
  },
  {
   "cell_type": "code",
   "execution_count": 4,
   "id": "0b981526-c395-4f33-9f37-874591430495",
   "metadata": {},
   "outputs": [
    {
     "name": "stdout",
     "output_type": "stream",
     "text": [
      "✅ Successfully saved: Arugam Bay Mean Daily SST(2020-24).csv\n",
      "\n",
      "Preview:\n",
      "         Date          SST\n",
      "0  2020-01-01  2814.193548\n",
      "1  2020-01-02  2814.717894\n",
      "2  2020-01-03  2815.242240\n",
      "3  2020-01-04  2815.766587\n",
      "4  2020-01-05  2816.290933\n"
     ]
    }
   ],
   "source": [
    "# Save the final DataFrame to a new CSV\n",
    "output_filename = \"Arugam Bay Mean Daily SST(2020-24).csv\"\n",
    "combined_data.to_csv(output_filename, index=False)\n",
    "\n",
    "print(f\"✅ Successfully saved: {output_filename}\")\n",
    "print(\"\\nPreview:\")\n",
    "print(combined_data.head())  # Show first 5 rows"
   ]
  }
 ],
 "metadata": {
  "kernelspec": {
   "display_name": "Python 3 (ipykernel)",
   "language": "python",
   "name": "python3"
  },
  "language_info": {
   "codemirror_mode": {
    "name": "ipython",
    "version": 3
   },
   "file_extension": ".py",
   "mimetype": "text/x-python",
   "name": "python",
   "nbconvert_exporter": "python",
   "pygments_lexer": "ipython3",
   "version": "3.11.7"
  }
 },
 "nbformat": 4,
 "nbformat_minor": 5
}
