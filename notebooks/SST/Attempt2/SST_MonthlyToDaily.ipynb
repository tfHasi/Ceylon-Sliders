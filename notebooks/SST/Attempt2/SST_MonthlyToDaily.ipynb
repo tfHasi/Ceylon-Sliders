{
 "cells": [
  {
   "cell_type": "code",
   "execution_count": 1,
   "id": "46a85c22-87c2-497e-af1e-2153bbc32515",
   "metadata": {},
   "outputs": [],
   "source": [
    "import pandas as pd\n",
    "import numpy as np"
   ]
  },
  {
   "cell_type": "code",
   "execution_count": 2,
   "id": "dcd7cd9d-8b8e-4eb1-960d-1cff13b707e9",
   "metadata": {},
   "outputs": [],
   "source": [
    "# Load the monthly SST data for 2024 and January 2025\n",
    "sst_2024 = pd.read_csv('SurfSpot_SST(Monthly Mean 2020).csv')  \n",
    "sst_jan_2025 = pd.read_csv('2021/SurfSpot_SST(Monthly Mean 2021).csv')  "
   ]
  },
  {
   "cell_type": "code",
   "execution_count": 3,
   "id": "9cf03ca3-41fc-4949-bc80-9d729685d181",
   "metadata": {},
   "outputs": [],
   "source": [
    "# Convert 'Month' column to datetime\n",
    "sst_2024['Month'] = pd.to_datetime(sst_2024['Month'])\n",
    "sst_jan_2025['Month'] = pd.to_datetime(sst_jan_2025['Month'])"
   ]
  },
  {
   "cell_type": "code",
   "execution_count": 4,
   "id": "b654823f-76ff-4250-90e4-eb5f751c1bf1",
   "metadata": {},
   "outputs": [],
   "source": [
    "# Initialize an empty list to store results\n",
    "daily_results = []"
   ]
  },
  {
   "cell_type": "code",
   "execution_count": 5,
   "id": "587f81c8-601a-43d2-9dcd-1dcdf3362b7b",
   "metadata": {},
   "outputs": [],
   "source": [
    "# Get the list of unique surf spots\n",
    "surf_spots = sst_2024['Surf Spot'].unique()"
   ]
  },
  {
   "cell_type": "markdown",
   "id": "59311b83-c206-485b-a246-487fa8ced505",
   "metadata": {},
   "source": [
    "Interpolate SST values"
   ]
  },
  {
   "cell_type": "code",
   "execution_count": 7,
   "id": "cf2205b7-3634-480b-b5bf-bc8e73f9da24",
   "metadata": {},
   "outputs": [],
   "source": [
    "# Iterate over each surf spot\n",
    "for spot in surf_spots:\n",
    "    # Filter 2024 data for the current surf spot\n",
    "    spot_data_2024 = sst_2024[sst_2024['Surf Spot'] == spot].sort_values('Month')\n",
    "\n",
    "    # Initialize the all_dates and all_values arrays for interpolation\n",
    "    all_dates = []\n",
    "    all_values = []\n",
    "\n",
    "    # Add the data for the first month (January 2023)\n",
    "    all_dates.append(pd.to_datetime('2020-01-01'))\n",
    "    all_values.append(spot_data_2024[spot_data_2024['Month'].dt.month == 1]['SST (°C)'].values[0])\n",
    "\n",
    "    # Iterate through each month in 2023 (Jan-Dec) for interpolation\n",
    "    for month in range(1, 13):\n",
    "        # Get the corresponding monthly mean SST for the current month in 2024\n",
    "        month_data = spot_data_2024[spot_data_2024['Month'].dt.month == month]\n",
    "        \n",
    "        if not month_data.empty:\n",
    "            monthly_sst = month_data['SST (°C)'].values[0]\n",
    "        else:\n",
    "            monthly_sst = None\n",
    "        \n",
    "        # Add the data for the current month (except January, already added)\n",
    "        if monthly_sst is not None:\n",
    "            all_dates.append(pd.to_datetime(f'2020-{month:02d}-01'))\n",
    "            all_values.append(monthly_sst)\n",
    "\n",
    "    # Add the data for January 2024 to help with interpolation at the end\n",
    "    jan_2025_sst = sst_jan_2025[sst_jan_2025['Surf Spot'] == spot]['SST (°C)'].values[0]\n",
    "    all_dates.append(pd.to_datetime('2021-01-01'))\n",
    "    all_values.append(jan_2025_sst)\n",
    "\n",
    "    # Interpolate the daily SST values between all months\n",
    "    for i in range(1, len(all_dates)):\n",
    "        # Get the start and end date for the interpolation\n",
    "        start_date = all_dates[i-1]\n",
    "        end_date = all_dates[i]\n",
    "\n",
    "        # Generate daily dates for the current month\n",
    "        daily_dates = pd.date_range(start=start_date, end=end_date - pd.Timedelta(days=1))\n",
    "\n",
    "        # Linearly interpolate between the SST values for this interval\n",
    "        interp_values = np.interp(\n",
    "            pd.to_datetime(daily_dates).view('int64'),  # Convert dates to numeric format\n",
    "            [start_date.value, end_date.value],  # Numeric dates for start and end\n",
    "            [all_values[i-1], all_values[i]]  # Corresponding SST values for the interval\n",
    "        )\n",
    "\n",
    "        # Save interpolated daily SST data\n",
    "        daily_sst_data = pd.DataFrame({\n",
    "            'Date': daily_dates,\n",
    "            'Surf Spot': spot,\n",
    "            'SST (°C)': interp_values\n",
    "        })\n",
    "\n",
    "        # Append to the results\n",
    "        daily_results.append(daily_sst_data)\n",
    "\n",
    "# Combine all daily results into a single DataFrame\n",
    "final_results = pd.concat(daily_results)"
   ]
  },
  {
   "cell_type": "code",
   "execution_count": 8,
   "id": "c5842e7d-b987-47ea-9642-8cd5d45a163b",
   "metadata": {},
   "outputs": [
    {
     "name": "stdout",
     "output_type": "stream",
     "text": [
      "Daily SST data successfully generated and saved.\n"
     ]
    }
   ],
   "source": [
    "# Save the final results to a CSV file\n",
    "final_results.to_csv('SurfSpot_SST(Daily Mean 2020).csv', index=False)\n",
    "\n",
    "print(\"Daily SST data successfully generated and saved.\")"
   ]
  }
 ],
 "metadata": {
  "kernelspec": {
   "display_name": "Python 3 (ipykernel)",
   "language": "python",
   "name": "python3"
  },
  "language_info": {
   "codemirror_mode": {
    "name": "ipython",
    "version": 3
   },
   "file_extension": ".py",
   "mimetype": "text/x-python",
   "name": "python",
   "nbconvert_exporter": "python",
   "pygments_lexer": "ipython3",
   "version": "3.11.7"
  }
 },
 "nbformat": 4,
 "nbformat_minor": 5
}
