{
 "cells": [
  {
   "cell_type": "code",
   "execution_count": 1,
   "id": "b8411c77-b738-42f8-81a1-8cae350409fb",
   "metadata": {},
   "outputs": [],
   "source": [
    "import pandas as pd"
   ]
  },
  {
   "cell_type": "code",
   "execution_count": 2,
   "id": "3ab7a2ab-1cb4-4cdc-a49b-344e8dfeeb63",
   "metadata": {},
   "outputs": [],
   "source": [
    "# Load the original CSV file\n",
    "file_path = \"SurfSpot_SST(Monthly).csv\"  # Replace with the path to your file\n",
    "df = pd.read_csv(file_path)"
   ]
  },
  {
   "cell_type": "code",
   "execution_count": 3,
   "id": "cb3645b5-3627-4197-82bb-8a6a0acc3ff6",
   "metadata": {},
   "outputs": [],
   "source": [
    "# Ensure the 'Month' column is in datetime format\n",
    "df['Month'] = pd.to_datetime(df['Month'], format='%Y-%m')"
   ]
  },
  {
   "cell_type": "code",
   "execution_count": 4,
   "id": "1a9b4834-03ea-455f-8a88-6c1588ac1542",
   "metadata": {},
   "outputs": [],
   "source": [
    "# Preserve the original surf spot order\n",
    "df['Surf Spot Order'] = df['Surf Spot'].factorize()[0]  # Keep track of the original order\n"
   ]
  },
  {
   "cell_type": "code",
   "execution_count": 5,
   "id": "66cc2ec4-17e0-4436-a85d-5026436ff3ec",
   "metadata": {},
   "outputs": [],
   "source": [
    "# Create a new DataFrame with daily data\n",
    "daily_data = []\n",
    "for surf_spot, group in df.groupby('Surf Spot', sort=False):  # sort=False preserves the original order\n",
    "    # Generate a daily date range for the surf spot\n",
    "    start_date = group['Month'].min()\n",
    "    end_date = (group['Month'].max() + pd.offsets.MonthEnd(0))  # Ensure the range includes the full month\n",
    "    daily_date_range = pd.date_range(start=start_date, end=end_date, freq='D')\n",
    "\n",
    "    # Interpolate SST data for daily values\n",
    "    group = group.set_index('Month').reindex(daily_date_range).rename_axis('Date').reset_index()\n",
    "    group['Surf Spot'] = surf_spot\n",
    "    group['SST (°C)'] = group['SST (°C)'].interpolate(method='linear')\n",
    "\n",
    "    daily_data.append(group)\n",
    "\n",
    "# Combine all surf spot data into one DataFrame\n",
    "daily_df = pd.concat(daily_data, ignore_index=True)\n"
   ]
  },
  {
   "cell_type": "code",
   "execution_count": 6,
   "id": "17854a9d-61bc-4dbe-a4dc-778b4b9a0a3a",
   "metadata": {},
   "outputs": [],
   "source": [
    "# Restore the original surf spot order\n",
    "daily_df['Surf Spot Order'] = daily_df['Surf Spot'].map(\n",
    "    dict(zip(df['Surf Spot'], df['Surf Spot Order']))\n",
    ")\n",
    "daily_df = daily_df.sort_values(by=['Surf Spot Order', 'Date']).drop(columns=['Surf Spot Order'])\n"
   ]
  },
  {
   "cell_type": "code",
   "execution_count": 7,
   "id": "0d8e81a2-30a5-4ba9-b946-45119c12edb5",
   "metadata": {},
   "outputs": [
    {
     "name": "stdout",
     "output_type": "stream",
     "text": [
      "Daily SST data saved to surf_spots_daily_sst.csv\n"
     ]
    }
   ],
   "source": [
    "# Save the result to a new CSV file\n",
    "output_path = \"surf_spots_daily_sst.csv\"\n",
    "daily_df.to_csv(output_path, index=False)\n",
    "\n",
    "print(f\"Daily SST data saved to {output_path}\")"
   ]
  },
  {
   "cell_type": "code",
   "execution_count": null,
   "id": "809948e2-69ba-4edd-b0eb-dbcd640bcbc4",
   "metadata": {},
   "outputs": [],
   "source": []
  }
 ],
 "metadata": {
  "kernelspec": {
   "display_name": "Python 3 (ipykernel)",
   "language": "python",
   "name": "python3"
  },
  "language_info": {
   "codemirror_mode": {
    "name": "ipython",
    "version": 3
   },
   "file_extension": ".py",
   "mimetype": "text/x-python",
   "name": "python",
   "nbconvert_exporter": "python",
   "pygments_lexer": "ipython3",
   "version": "3.11.7"
  }
 },
 "nbformat": 4,
 "nbformat_minor": 5
}
