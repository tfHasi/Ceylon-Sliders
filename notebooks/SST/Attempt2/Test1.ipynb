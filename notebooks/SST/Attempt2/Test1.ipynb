{
 "cells": [
  {
   "cell_type": "code",
   "execution_count": 1,
   "id": "964b6972-29f0-46e8-b5f8-227941ee810b",
   "metadata": {},
   "outputs": [],
   "source": [
    "import ee\n",
    "import pandas as pd\n",
    "import geemap"
   ]
  },
  {
   "cell_type": "code",
   "execution_count": 2,
   "id": "71344fd8-fdf2-4cff-82fb-7bb16e004dbc",
   "metadata": {},
   "outputs": [
    {
     "data": {
      "text/html": [
       "\n",
       "            <style>\n",
       "                .geemap-dark {\n",
       "                    --jp-widgets-color: white;\n",
       "                    --jp-widgets-label-color: white;\n",
       "                    --jp-ui-font-color1: white;\n",
       "                    --jp-layout-color2: #454545;\n",
       "                    background-color: #383838;\n",
       "                }\n",
       "\n",
       "                .geemap-dark .jupyter-button {\n",
       "                    --jp-layout-color3: #383838;\n",
       "                }\n",
       "\n",
       "                .geemap-colab {\n",
       "                    background-color: var(--colab-primary-surface-color, white);\n",
       "                }\n",
       "\n",
       "                .geemap-colab .jupyter-button {\n",
       "                    --jp-layout-color3: var(--colab-primary-surface-color, white);\n",
       "                }\n",
       "            </style>\n",
       "            "
      ],
      "text/plain": [
       "<IPython.core.display.HTML object>"
      ]
     },
     "metadata": {},
     "output_type": "display_data"
    }
   ],
   "source": [
    "# Initialize the Earth Engine API\n",
    "ee.Initialize()\n",
    "\n",
    "# Load surf spots data\n",
    "file_path = \"Surf Spots.csv\"  # Path to your CSV file\n",
    "surf_spots = pd.read_csv(file_path)"
   ]
  },
  {
   "cell_type": "code",
   "execution_count": 3,
   "id": "97decef4-a7bd-46e3-9822-9e988f25cc80",
   "metadata": {},
   "outputs": [
    {
     "data": {
      "text/html": [
       "\n",
       "            <style>\n",
       "                .geemap-dark {\n",
       "                    --jp-widgets-color: white;\n",
       "                    --jp-widgets-label-color: white;\n",
       "                    --jp-ui-font-color1: white;\n",
       "                    --jp-layout-color2: #454545;\n",
       "                    background-color: #383838;\n",
       "                }\n",
       "\n",
       "                .geemap-dark .jupyter-button {\n",
       "                    --jp-layout-color3: #383838;\n",
       "                }\n",
       "\n",
       "                .geemap-colab {\n",
       "                    background-color: var(--colab-primary-surface-color, white);\n",
       "                }\n",
       "\n",
       "                .geemap-colab .jupyter-button {\n",
       "                    --jp-layout-color3: var(--colab-primary-surface-color, white);\n",
       "                }\n",
       "            </style>\n",
       "            "
      ],
      "text/plain": [
       "<IPython.core.display.HTML object>"
      ]
     },
     "metadata": {},
     "output_type": "display_data"
    }
   ],
   "source": [
    "# Initialize the map (even though we're not displaying it here)\n",
    "Map = geemap.Map()"
   ]
  },
  {
   "cell_type": "code",
   "execution_count": 4,
   "id": "958ec4d5-7138-45d2-832f-5357998529a7",
   "metadata": {},
   "outputs": [
    {
     "data": {
      "text/html": [
       "\n",
       "            <style>\n",
       "                .geemap-dark {\n",
       "                    --jp-widgets-color: white;\n",
       "                    --jp-widgets-label-color: white;\n",
       "                    --jp-ui-font-color1: white;\n",
       "                    --jp-layout-color2: #454545;\n",
       "                    background-color: #383838;\n",
       "                }\n",
       "\n",
       "                .geemap-dark .jupyter-button {\n",
       "                    --jp-layout-color3: #383838;\n",
       "                }\n",
       "\n",
       "                .geemap-colab {\n",
       "                    background-color: var(--colab-primary-surface-color, white);\n",
       "                }\n",
       "\n",
       "                .geemap-colab .jupyter-button {\n",
       "                    --jp-layout-color3: var(--colab-primary-surface-color, white);\n",
       "                }\n",
       "            </style>\n",
       "            "
      ],
      "text/plain": [
       "<IPython.core.display.HTML object>"
      ]
     },
     "metadata": {},
     "output_type": "display_data"
    }
   ],
   "source": [
    "# SST dataset (MODIS Aqua SST as an example)\n",
    "sst_dataset = ee.ImageCollection(\"NOAA/CDR/OISST/V2_1\") \\\n",
    "    .filterDate('2024-01-01', '2024-12-31')  # Change dates as needed"
   ]
  },
  {
   "cell_type": "code",
   "execution_count": 5,
   "id": "a0fe2c14-a619-4823-9f39-9eb774d67852",
   "metadata": {},
   "outputs": [
    {
     "data": {
      "text/html": [
       "\n",
       "            <style>\n",
       "                .geemap-dark {\n",
       "                    --jp-widgets-color: white;\n",
       "                    --jp-widgets-label-color: white;\n",
       "                    --jp-ui-font-color1: white;\n",
       "                    --jp-layout-color2: #454545;\n",
       "                    background-color: #383838;\n",
       "                }\n",
       "\n",
       "                .geemap-dark .jupyter-button {\n",
       "                    --jp-layout-color3: #383838;\n",
       "                }\n",
       "\n",
       "                .geemap-colab {\n",
       "                    background-color: var(--colab-primary-surface-color, white);\n",
       "                }\n",
       "\n",
       "                .geemap-colab .jupyter-button {\n",
       "                    --jp-layout-color3: var(--colab-primary-surface-color, white);\n",
       "                }\n",
       "            </style>\n",
       "            "
      ],
      "text/plain": [
       "<IPython.core.display.HTML object>"
      ]
     },
     "metadata": {},
     "output_type": "display_data"
    }
   ],
   "source": [
    "# Function to buffer the point and retrieve SST for a specific month\n",
    "def get_monthly_sst_data(lat, lon, year, month, buffer_size=1000):\n",
    "    point = ee.Geometry.Point([lon, lat])\n",
    "    buffer = point.buffer(buffer_size).bounds()  # Create buffer around the point\n",
    "    \n",
    "    # Filter SST dataset by the specific month and year\n",
    "    start_date = ee.Date.fromYMD(year, month, 1)\n",
    "    end_date = start_date.advance(1, 'month')\n",
    "    sst_image = sst_dataset.filterDate(start_date, end_date)\n",
    "    \n",
    "    # If the dataset for the month is empty, return None\n",
    "    if sst_image.size().getInfo() == 0:\n",
    "        return None\n",
    "    \n",
    "    sst_image = sst_image.mean()  # Compute the mean SST for the month\n",
    "    \n",
    "    # Mask invalid SST values\n",
    "    def mask_invalid(image):\n",
    "        mask = image.select('sst').mask()\n",
    "        return image.updateMask(mask)\n",
    "    \n",
    "    # Apply masking and compute the mean SST\n",
    "    sst = mask_invalid(sst_image)\n",
    "    mean_sst = sst.reduceRegion(\n",
    "        reducer=ee.Reducer.mean(),\n",
    "        geometry=buffer,\n",
    "        scale=1000,  # Adjust scale for ~1 km resolution\n",
    "        bestEffort=True\n",
    "    ).get('sst')\n",
    "    \n",
    "    return mean_sst.getInfo() if mean_sst else None"
   ]
  },
  {
   "cell_type": "code",
   "execution_count": 6,
   "id": "2d68a9ef-47c3-4e1f-8b05-6044982e561d",
   "metadata": {},
   "outputs": [
    {
     "data": {
      "text/html": [
       "\n",
       "            <style>\n",
       "                .geemap-dark {\n",
       "                    --jp-widgets-color: white;\n",
       "                    --jp-widgets-label-color: white;\n",
       "                    --jp-ui-font-color1: white;\n",
       "                    --jp-layout-color2: #454545;\n",
       "                    background-color: #383838;\n",
       "                }\n",
       "\n",
       "                .geemap-dark .jupyter-button {\n",
       "                    --jp-layout-color3: #383838;\n",
       "                }\n",
       "\n",
       "                .geemap-colab {\n",
       "                    background-color: var(--colab-primary-surface-color, white);\n",
       "                }\n",
       "\n",
       "                .geemap-colab .jupyter-button {\n",
       "                    --jp-layout-color3: var(--colab-primary-surface-color, white);\n",
       "                }\n",
       "            </style>\n",
       "            "
      ],
      "text/plain": [
       "<IPython.core.display.HTML object>"
      ]
     },
     "metadata": {},
     "output_type": "display_data"
    }
   ],
   "source": [
    "# Function to generate valid dates for each month\n",
    "def get_valid_dates(year, month):\n",
    "    # Generate valid dates for the given month\n",
    "    dates = []\n",
    "    days_in_month = pd.to_datetime(f'{year}-{month:02d}-01').days_in_month\n",
    "    for day in range(1, days_in_month + 1):\n",
    "        date_str = f'{year}-{month:02d}-{day:02d}'\n",
    "        dates.append(date_str)\n",
    "    return dates"
   ]
  },
  {
   "cell_type": "code",
   "execution_count": 7,
   "id": "a3b84c04-b193-4772-99ba-170e76887a7f",
   "metadata": {},
   "outputs": [
    {
     "data": {
      "text/html": [
       "\n",
       "            <style>\n",
       "                .geemap-dark {\n",
       "                    --jp-widgets-color: white;\n",
       "                    --jp-widgets-label-color: white;\n",
       "                    --jp-ui-font-color1: white;\n",
       "                    --jp-layout-color2: #454545;\n",
       "                    background-color: #383838;\n",
       "                }\n",
       "\n",
       "                .geemap-dark .jupyter-button {\n",
       "                    --jp-layout-color3: #383838;\n",
       "                }\n",
       "\n",
       "                .geemap-colab {\n",
       "                    background-color: var(--colab-primary-surface-color, white);\n",
       "                }\n",
       "\n",
       "                .geemap-colab .jupyter-button {\n",
       "                    --jp-layout-color3: var(--colab-primary-surface-color, white);\n",
       "                }\n",
       "            </style>\n",
       "            "
      ],
      "text/plain": [
       "<IPython.core.display.HTML object>"
      ]
     },
     "metadata": {},
     "output_type": "display_data"
    }
   ],
   "source": [
    "# Date range for iteration (using geemap's date handling)\n",
    "start_date = ee.Date('2024-01-01')\n",
    "end_date = ee.Date('2024-12-31')"
   ]
  },
  {
   "cell_type": "code",
   "execution_count": 8,
   "id": "f1272d0e-d66d-4ef8-88a9-150058549c06",
   "metadata": {
    "scrolled": true
   },
   "outputs": [
    {
     "data": {
      "text/html": [
       "\n",
       "            <style>\n",
       "                .geemap-dark {\n",
       "                    --jp-widgets-color: white;\n",
       "                    --jp-widgets-label-color: white;\n",
       "                    --jp-ui-font-color1: white;\n",
       "                    --jp-layout-color2: #454545;\n",
       "                    background-color: #383838;\n",
       "                }\n",
       "\n",
       "                .geemap-dark .jupyter-button {\n",
       "                    --jp-layout-color3: #383838;\n",
       "                }\n",
       "\n",
       "                .geemap-colab {\n",
       "                    background-color: var(--colab-primary-surface-color, white);\n",
       "                }\n",
       "\n",
       "                .geemap-colab .jupyter-button {\n",
       "                    --jp-layout-color3: var(--colab-primary-surface-color, white);\n",
       "                }\n",
       "            </style>\n",
       "            "
      ],
      "text/plain": [
       "<IPython.core.display.HTML object>"
      ]
     },
     "metadata": {},
     "output_type": "display_data"
    }
   ],
   "source": [
    "# Iterate over each surf spot and each month in 2024 to get monthly mean SST\n",
    "results = []\n",
    "for index, row in surf_spots.iterrows():\n",
    "    for month in range(1, 13):  # Iterate over the 12 months of 2024\n",
    "        try:\n",
    "            # Get monthly mean SST for the specific surf spot\n",
    "            monthly_sst = get_monthly_sst_data(row['Latitude'], row['Longitude'], 2024, month)\n",
    "            if monthly_sst is not None:\n",
    "                # Add data for each valid day of the month\n",
    "                valid_dates = get_valid_dates(2024, month)\n",
    "                for date_str in valid_dates:\n",
    "                    results.append({\n",
    "                        'Surf Spot': row['Name'],\n",
    "                        'Latitude': row['Latitude'],\n",
    "                        'Longitude': row['Longitude'],\n",
    "                        'Date': date_str,\n",
    "                        'SST (°C)': monthly_sst\n",
    "                    })\n",
    "        except Exception as e:\n",
    "            print(f\"Error processing {row['Name']} for month {month}: {e}\")\n",
    "            results.append({\n",
    "                'Surf Spot': row['Name'],\n",
    "                'Latitude': row['Latitude'],\n",
    "                'Longitude': row['Longitude'],\n",
    "                'Date': f\"2024-{month:02d}\",\n",
    "                'SST (°C)': None\n",
    "            })"
   ]
  },
  {
   "cell_type": "code",
   "execution_count": 20,
   "id": "bfd8f6fd-e0e8-409e-9ba1-f89d92165aec",
   "metadata": {},
   "outputs": [
    {
     "data": {
      "text/html": [
       "\n",
       "            <style>\n",
       "                .geemap-dark {\n",
       "                    --jp-widgets-color: white;\n",
       "                    --jp-widgets-label-color: white;\n",
       "                    --jp-ui-font-color1: white;\n",
       "                    --jp-layout-color2: #454545;\n",
       "                    background-color: #383838;\n",
       "                }\n",
       "\n",
       "                .geemap-dark .jupyter-button {\n",
       "                    --jp-layout-color3: #383838;\n",
       "                }\n",
       "\n",
       "                .geemap-colab {\n",
       "                    background-color: var(--colab-primary-surface-color, white);\n",
       "                }\n",
       "\n",
       "                .geemap-colab .jupyter-button {\n",
       "                    --jp-layout-color3: var(--colab-primary-surface-color, white);\n",
       "                }\n",
       "            </style>\n",
       "            "
      ],
      "text/plain": [
       "<IPython.core.display.HTML object>"
      ]
     },
     "metadata": {},
     "output_type": "display_data"
    },
    {
     "name": "stdout",
     "output_type": "stream",
     "text": [
      "Monthly data successfully saved to SurfSpot_SST(Monthly).csv\n"
     ]
    }
   ],
   "source": [
    "# Create a list for the final monthly results\n",
    "monthly_results = []\n",
    "\n",
    "# Iterate through the existing `results` list\n",
    "for row in results:\n",
    "    # Extract the necessary information\n",
    "    surf_spot = row['Surf Spot']\n",
    "    month = row['Date'][:7]  # Extract \"YYYY-MM\" from the Date\n",
    "    sst = row['SST (°C)']\n",
    "    \n",
    "    # Check if this Surf Spot and Month already exists in monthly_results\n",
    "    existing_entry = next((entry for entry in monthly_results if entry['Surf Spot'] == surf_spot and entry['Month'] == month), None)\n",
    "    \n",
    "    if existing_entry:\n",
    "        # If the entry exists, skip adding (avoid duplicates)\n",
    "        continue\n",
    "    else:\n",
    "        # Add a new entry for this Surf Spot and Month\n",
    "        monthly_results.append({\n",
    "            'Surf Spot': surf_spot,\n",
    "            'Month': month,\n",
    "            'SST (°C)': sst  # SST is already monthly mean in your results\n",
    "        })\n",
    "\n",
    "# Convert the monthly results into a DataFrame\n",
    "monthly_df = pd.DataFrame(monthly_results)\n",
    "\n",
    "# Save the DataFrame to a CSV file\n",
    "output_file_path = \"SurfSpot_SST(Monthly).csv\"  # Path to save your output CSV\n",
    "monthly_df.to_csv(output_file_path, index=False)\n",
    "\n",
    "print(f\"Monthly data successfully saved to {output_file_path}\")"
   ]
  },
  {
   "cell_type": "code",
   "execution_count": null,
   "id": "7d6d6aab-5371-42f5-8dbd-101b60a374b3",
   "metadata": {},
   "outputs": [],
   "source": []
  }
 ],
 "metadata": {
  "kernelspec": {
   "display_name": "Python 3 (ipykernel)",
   "language": "python",
   "name": "python3"
  },
  "language_info": {
   "codemirror_mode": {
    "name": "ipython",
    "version": 3
   },
   "file_extension": ".py",
   "mimetype": "text/x-python",
   "name": "python",
   "nbconvert_exporter": "python",
   "pygments_lexer": "ipython3",
   "version": "3.11.7"
  }
 },
 "nbformat": 4,
 "nbformat_minor": 5
}
